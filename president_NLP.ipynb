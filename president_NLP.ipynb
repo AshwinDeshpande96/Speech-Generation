{
  "nbformat": 4,
  "nbformat_minor": 0,
  "metadata": {
    "colab": {
      "name": "Copy of president_NLP.ipynb",
      "version": "0.3.2",
      "provenance": [],
      "collapsed_sections": [],
      "include_colab_link": true
    },
    "kernelspec": {
      "name": "python2",
      "display_name": "Python 2"
    },
    "accelerator": "GPU"
  },
  "cells": [
    {
      "cell_type": "markdown",
      "metadata": {
        "id": "view-in-github",
        "colab_type": "text"
      },
      "source": [
        "<a href=\"https://colab.research.google.com/github/AshwinDeshpande96/Speech-Generation/blob/master/president_NLP.ipynb\" target=\"_parent\"><img src=\"https://colab.research.google.com/assets/colab-badge.svg\" alt=\"Open In Colab\"/></a>"
      ]
    },
    {
      "cell_type": "code",
      "metadata": {
        "id": "HJuPGQtSjp5l",
        "colab_type": "code",
        "outputId": "169a84f9-3424-492a-900b-75ef008d6738",
        "colab": {
          "base_uri": "https://localhost:8080/",
          "height": 34
        }
      },
      "source": [
        "import numpy\n",
        "from keras.models import Sequential\n",
        "from keras.layers import Dense\n",
        "from keras.layers import Dropout\n",
        "from keras.layers import LSTM\n",
        "from keras.callbacks import ModelCheckpoint\n",
        "from keras.utils import np_utils\n",
        "from google.colab import drive\n",
        "from keras.models import load_model\n",
        "from keras.callbacks import EarlyStopping, ModelCheckpoint, ReduceLROnPlateau\n",
        "from keras.optimizers import Adam\n",
        "import sys\n",
        "import inflect\n",
        "import re\n",
        "import nltk\n",
        "from nltk.stem import PorterStemmer\n",
        "from nltk.stem import LancasterStemmer\n",
        "from nltk.stem import WordNetLemmatizer\n"
      ],
      "execution_count": 0,
      "outputs": [
        {
          "output_type": "stream",
          "text": [
            "Using TensorFlow backend.\n"
          ],
          "name": "stderr"
        }
      ]
    },
    {
      "cell_type": "code",
      "metadata": {
        "id": "NG5snBTtxKVG",
        "colab_type": "code",
        "outputId": "3ba08e49-f636-48ba-8099-e96509b57c3d",
        "colab": {
          "base_uri": "https://localhost:8080/",
          "height": 68
        }
      },
      "source": [
        "nltk.download(\"wordnet\")"
      ],
      "execution_count": 0,
      "outputs": [
        {
          "output_type": "stream",
          "text": [
            "[nltk_data] Downloading package wordnet to /root/nltk_data...\n",
            "[nltk_data]   Unzipping corpora/wordnet.zip.\n"
          ],
          "name": "stdout"
        },
        {
          "output_type": "execute_result",
          "data": {
            "text/plain": [
              "True"
            ]
          },
          "metadata": {
            "tags": []
          },
          "execution_count": 10
        }
      ]
    },
    {
      "cell_type": "code",
      "metadata": {
        "id": "x243ce7Zj_is",
        "colab_type": "code",
        "outputId": "8ca7d35e-9d4d-4c64-b087-87bb3f417e12",
        "colab": {
          "base_uri": "https://localhost:8080/",
          "height": 122
        }
      },
      "source": [
        "#drive.mount('/content/gdrive', force_remount=True)\n",
        "drive.mount('/content/gdrive')"
      ],
      "execution_count": 0,
      "outputs": [
        {
          "output_type": "stream",
          "text": [
            "Go to this URL in a browser: https://accounts.google.com/o/oauth2/auth?client_id=947318989803-6bn6qk8qdgf4n4g3pfee6491hc0brc4i.apps.googleusercontent.com&redirect_uri=urn%3Aietf%3Awg%3Aoauth%3A2.0%3Aoob&scope=email%20https%3A%2F%2Fwww.googleapis.com%2Fauth%2Fdocs.test%20https%3A%2F%2Fwww.googleapis.com%2Fauth%2Fdrive%20https%3A%2F%2Fwww.googleapis.com%2Fauth%2Fdrive.photos.readonly%20https%3A%2F%2Fwww.googleapis.com%2Fauth%2Fpeopleapi.readonly&response_type=code\n",
            "\n",
            "Enter your authorization code:\n",
            "··········\n",
            "Mounted at /content/gdrive\n"
          ],
          "name": "stdout"
        }
      ]
    },
    {
      "cell_type": "code",
      "metadata": {
        "id": "90OaffXpkcPx",
        "colab_type": "code",
        "colab": {}
      },
      "source": [
        "president = 'lincoln'\n",
        "file_path = '/content/gdrive/My Drive/Projects/NLP/President Speech/' +president+'_all.txt'"
      ],
      "execution_count": 0,
      "outputs": []
    },
    {
      "cell_type": "code",
      "metadata": {
        "id": "P-HfTCgojyJm",
        "colab_type": "code",
        "colab": {}
      },
      "source": [
        "raw_text = open(file_path).read()"
      ],
      "execution_count": 0,
      "outputs": []
    },
    {
      "cell_type": "code",
      "metadata": {
        "id": "LBLmMw1Kxq9w",
        "colab_type": "code",
        "colab": {}
      },
      "source": [
        "porter = PorterStemmer()\n",
        "lancaster=LancasterStemmer()\n",
        "wordnet_lemmatizer = WordNetLemmatizer()"
      ],
      "execution_count": 0,
      "outputs": []
    },
    {
      "cell_type": "code",
      "metadata": {
        "id": "3Y-InccOo8TB",
        "colab_type": "code",
        "outputId": "ecf22298-62d7-47ba-ee47-4dd4767c9b0a",
        "colab": {
          "base_uri": "https://localhost:8080/",
          "height": 51
        }
      },
      "source": [
        "def text_preprocess(raw_text):\n",
        "    #raw_text = raw_text.lower()\n",
        "    num_set = re.findall(r'\\d+', raw_text)\n",
        "    p = inflect.engine()\n",
        "    #print num_set\n",
        "    for num in num_set:\n",
        "        word = str(p.number_to_words(num))\n",
        "        raw_text = raw_text.replace(num, word)\n",
        "    punctuation_chars = [\"!\", '\"', '&', ',', '?', '/', ':', ';', '<', '>', '$', '#', '@', '%', '*', '(', ')', '[', ']', '{', '}', '\\n', '-', '`'] \n",
        "    for symbol in punctuation_chars:\n",
        "        raw_text = raw_text.replace(symbol, ' ')\n",
        "    raw_text = raw_text.replace('.', ' . ')\n",
        "    raw_text = raw_text.replace( \"'\", \"\" )\n",
        "    \n",
        "    \n",
        "    raw_words = raw_text.split(' ')\n",
        "    raw_words = numpy.array([str(wordnet_lemmatizer.lemmatize(lancaster.stem(val))) for val in raw_words if val is not ''])\n",
        "    raw_words\n",
        "    print \"Text Word Count: \", raw_words.shape[0]\n",
        "    vocab = numpy.unique(sorted(raw_words))\n",
        "    print \"Vocab Length: \", vocab.shape[0]\n",
        "    return vocab.shape[0],raw_words.shape[0],raw_words, raw_text, vocab\n",
        "n_vocab, n_words, raw_words, raw_text, vocab = text_preprocess(raw_text)"
      ],
      "execution_count": 0,
      "outputs": [
        {
          "output_type": "stream",
          "text": [
            "Text Word Count:  101118\n",
            "Vocab Length:  3737\n"
          ],
          "name": "stdout"
        }
      ]
    },
    {
      "cell_type": "code",
      "metadata": {
        "id": "uRqptu503Vnp",
        "colab_type": "code",
        "outputId": "64735583-051a-4ff3-e2fe-8209e3e3d40d",
        "colab": {
          "base_uri": "https://localhost:8080/",
          "height": 306
        }
      },
      "source": [
        "#vocab = numpy.delete(vocab, 0)\n",
        "print \"Vocab: \",vocab[:50], \"\\n...\\n\", vocab[-10:]\n",
        "print \"Raw Words: \",raw_words[:50], \"\\n...\\n\", raw_words[-10:]"
      ],
      "execution_count": 0,
      "outputs": [
        {
          "output_type": "stream",
          "text": [
            "Vocab:  ['.' '00seven' '0eight' '0eightsix' '0eighty' '0fivenine' '0fivesix'\n",
            " '0fourfour' '0fournine' '0foursix' '0fourthree' '0nineteen' '0oneeight'\n",
            " '0onefive' '0oneone' '0seven' '0sevenseven' '0sevensix' '0six' '0sixfive'\n",
            " '0sixnine' '0threenine' '0two' '0two0' 'a' 'ab' 'abandon' 'abh' 'abid'\n",
            " 'abide' 'abl' 'ablest' 'abol' 'abolit' 'aborigin' 'about' 'abov'\n",
            " 'abraham' 'abridg' 'abroad' 'abrog' 'absolv' 'absorb' 'abstain'\n",
            " 'abstract' 'absurd' 'abund' 'abus' 'ac' 'academy'] \n",
            "...\n",
            "['yesterday' 'yet' 'yield' 'yo' 'york' 'you' 'young' 'yourselv' 'zeal'\n",
            " 'zero']\n",
            "Raw Words:  ['hon' 'to' 'henry' 'clayon' 'the' 'four' 'day' 'of' 'july' 'on'\n",
            " 'thousand' 'sev' 'hundr' 'and' 'seventy' 'six' 'the' 'peopl' 'of' 'a'\n",
            " 'few' 'feebl' 'and' 'oppress' 'colony' 'of' 'gre' 'britain' 'inhabit' 'a'\n",
            " 'port' 'of' 'the' 'atl' 'coast' 'of' 'nor' 'americ' 'publ' 'decl' 'their'\n",
            " 'nat' 'independ' 'and' 'mad' 'their' 'ap' 'to' 'the' 'just'] \n",
            "...\n",
            "['the' 'right' 'result' '.' 'yo' 'very' 'truly' '.' 'lincoln' '.']\n"
          ],
          "name": "stdout"
        }
      ]
    },
    {
      "cell_type": "code",
      "metadata": {
        "id": "pE2KHJX9lEMv",
        "colab_type": "code",
        "colab": {}
      },
      "source": [
        "#chars = sorted(list(set(raw_text)))\n",
        "vocab_to_int = dict((c, i) for i, c in enumerate(vocab))"
      ],
      "execution_count": 0,
      "outputs": []
    },
    {
      "cell_type": "code",
      "metadata": {
        "id": "18M8wcT5lbFv",
        "colab_type": "code",
        "outputId": "dcab1262-4fb7-49ef-ae36-6f2ef92f66f2",
        "colab": {
          "base_uri": "https://localhost:8080/",
          "height": 34
        }
      },
      "source": [
        "# prepare the dataset of input to output pairs encoded as integers\n",
        "seq_length = 100\n",
        "dataX = []\n",
        "dataY = []\n",
        "for i in range(0, n_words - seq_length, 1):\n",
        "\tseq_in = raw_words[i:i + seq_length]\n",
        "\tseq_out = raw_words[i + seq_length]\n",
        "\tdataX.append([vocab_to_int[word] for word in seq_in])\n",
        "\tdataY.append(vocab_to_int[seq_out])\n",
        "n_patterns = len(dataX)\n",
        "print \"Total Patterns: \", n_patterns"
      ],
      "execution_count": 0,
      "outputs": [
        {
          "output_type": "stream",
          "text": [
            "Total Patterns:  101018\n"
          ],
          "name": "stdout"
        }
      ]
    },
    {
      "cell_type": "code",
      "metadata": {
        "id": "MVBXfursnDoo",
        "colab_type": "code",
        "outputId": "89c7c6ce-a41b-4c4e-d3e7-c8a82b486962",
        "colab": {
          "base_uri": "https://localhost:8080/",
          "height": 34
        }
      },
      "source": [
        "print numpy.array(dataX).shape"
      ],
      "execution_count": 0,
      "outputs": [
        {
          "output_type": "stream",
          "text": [
            "(114982, 100)\n"
          ],
          "name": "stdout"
        }
      ]
    },
    {
      "cell_type": "code",
      "metadata": {
        "id": "LKefWPepr3gJ",
        "colab_type": "code",
        "outputId": "44ae802f-c66e-4946-ab10-75bb44b9590b",
        "colab": {
          "base_uri": "https://localhost:8080/",
          "height": 34
        }
      },
      "source": [
        "# reshape X to be [samples, time steps, features]\n",
        "X = numpy.reshape(dataX, (n_patterns, seq_length, 1))\n",
        "# normalize\n",
        "X = X / float(n_vocab)\n",
        "print X.shape\n",
        "\n"
      ],
      "execution_count": 0,
      "outputs": [
        {
          "output_type": "stream",
          "text": [
            "(101018, 100, 1)\n"
          ],
          "name": "stdout"
        }
      ]
    },
    {
      "cell_type": "code",
      "metadata": {
        "id": "B-UH_UqZPVGg",
        "colab_type": "code",
        "outputId": "5ddab493-1ba7-4adc-8bbe-d9ef5381bfd4",
        "colab": {
          "base_uri": "https://localhost:8080/",
          "height": 34
        }
      },
      "source": [
        "# one hot encode the output variable\n",
        "y = np_utils.to_categorical(dataY)\n",
        "print y.shape"
      ],
      "execution_count": 0,
      "outputs": [
        {
          "output_type": "stream",
          "text": [
            "(101018, 3737)\n"
          ],
          "name": "stdout"
        }
      ]
    },
    {
      "cell_type": "code",
      "metadata": {
        "id": "Bk_9ueRVsvyd",
        "colab_type": "code",
        "outputId": "23e3d51b-bb55-46cb-d2fb-a5f59cd30fa7",
        "colab": {
          "base_uri": "https://localhost:8080/",
          "height": 139
        }
      },
      "source": [
        "model = Sequential()\n",
        "model.add(LSTM(256, input_shape=(X.shape[1], X.shape[2]), return_sequences=True))\n",
        "model.add(Dropout(0.2))\n",
        "model.add(LSTM(512, return_sequences=True))\n",
        "model.add(Dropout(0.2))\n",
        "model.add(LSTM(256))\n",
        "model.add(Dense(256))\n",
        "model.add(Dropout(0.2))\n",
        "model.add(Dense(y.shape[1], activation='softmax'))\n",
        "model.compile(loss='categorical_crossentropy', optimizer=Adam(lr=1.0e-3))"
      ],
      "execution_count": 0,
      "outputs": [
        {
          "output_type": "stream",
          "text": [
            "WARNING:tensorflow:From /usr/local/lib/python2.7/dist-packages/tensorflow/python/framework/op_def_library.py:263: colocate_with (from tensorflow.python.framework.ops) is deprecated and will be removed in a future version.\n",
            "Instructions for updating:\n",
            "Colocations handled automatically by placer.\n",
            "WARNING:tensorflow:From /usr/local/lib/python2.7/dist-packages/keras/backend/tensorflow_backend.py:3445: calling dropout (from tensorflow.python.ops.nn_ops) with keep_prob is deprecated and will be removed in a future version.\n",
            "Instructions for updating:\n",
            "Please use `rate` instead of `keep_prob`. Rate should be set to `rate = 1 - keep_prob`.\n"
          ],
          "name": "stdout"
        }
      ]
    },
    {
      "cell_type": "code",
      "metadata": {
        "id": "-097iKSs8J90",
        "colab_type": "code",
        "colab": {}
      },
      "source": [
        "'''\n",
        "model = Sequential()\n",
        "model.add(LSTM(256, input_shape=(X.shape[1], X.shape[2])))\n",
        "model.add(Dropout(0.2))\n",
        "model.add(Dense(y.shape[1], activation='softmax'))\n",
        "model.compile(loss='categorical_crossentropy', optimizer='adam')\n",
        "'''"
      ],
      "execution_count": 0,
      "outputs": []
    },
    {
      "cell_type": "code",
      "metadata": {
        "id": "EhtW_JRgt8l_",
        "colab_type": "code",
        "colab": {}
      },
      "source": [
        "# define the checkpoint\n",
        "filepath=\"/content/gdrive/My Drive/Projects/NLP/President Speech/weights/\"+president+\"_weights.hdf5\"\n",
        "\n",
        "callbacks = [\n",
        "    EarlyStopping(monitor='loss', patience=10, verbose=0, mode='min'),\n",
        "    ReduceLROnPlateau(monitor='loss', factor=0.1, patience=5, verbose=1, mode='min'),\n",
        "    ModelCheckpoint(filepath, save_best_only=True,  save_weights_only=False, monitor='loss', mode='min')\n",
        "]\n",
        "#model.load_weights('/content/gdrive/My Drive/Projects/NLP/weights-improvement-20-1.9923.hdf5')"
      ],
      "execution_count": 0,
      "outputs": []
    },
    {
      "cell_type": "code",
      "metadata": {
        "id": "W0z-TplbBUTU",
        "colab_type": "code",
        "colab": {}
      },
      "source": [
        "#model = load_model('/content/gdrive/My Drive/Projects/NLP/President Speech/'+president+'_model.hdf5')\n"
      ],
      "execution_count": 0,
      "outputs": []
    },
    {
      "cell_type": "code",
      "metadata": {
        "id": "MosMu16buKAm",
        "colab_type": "code",
        "outputId": "cca7cebc-0239-454c-acc8-0c79bc06605e",
        "colab": {
          "base_uri": "https://localhost:8080/",
          "height": 459
        }
      },
      "source": [
        "#model.fit(X, y, epochs=1, batch_size=1000, callbacks=callbacks)\n",
        "#model.save('/content/gdrive/My Drive/Projects/NLP/President Speech/'+president+'_model.hdf5')\n",
        "for i in range(25):\n",
        "    model = load_model('/content/gdrive/My Drive/Projects/NLP/President Speech/'+president+'_model.hdf5')\n",
        "    model.fit(X, y, epochs=10, batch_size=64, callbacks=callbacks)\n",
        "    model.save('/content/gdrive/My Drive/Projects/NLP/President Speech/'+president+'_model.hdf5')"
      ],
      "execution_count": 0,
      "outputs": [
        {
          "output_type": "stream",
          "text": [
            "Epoch 1/10\n",
            "101018/101018 [==============================] - 658s 7ms/step - loss: 6.0508\n",
            "Epoch 2/10\n",
            "101018/101018 [==============================] - 643s 6ms/step - loss: 6.0288\n",
            "Epoch 3/10\n",
            "101018/101018 [==============================] - 632s 6ms/step - loss: 6.0250\n",
            "Epoch 4/10\n",
            "101018/101018 [==============================] - 625s 6ms/step - loss: 6.0250\n",
            "Epoch 5/10\n",
            "101018/101018 [==============================] - 662s 7ms/step - loss: 6.0253\n",
            "Epoch 6/10\n",
            "101018/101018 [==============================] - 624s 6ms/step - loss: 6.0235\n",
            "Epoch 7/10\n",
            "101018/101018 [==============================] - 636s 6ms/step - loss: 6.0245\n",
            "Epoch 8/10\n",
            "101018/101018 [==============================] - 628s 6ms/step - loss: 6.0253\n",
            "Epoch 9/10\n",
            "101018/101018 [==============================] - 625s 6ms/step - loss: 6.0284\n",
            "Epoch 10/10\n",
            "101018/101018 [==============================] - 621s 6ms/step - loss: 6.0216\n",
            "Epoch 1/10\n",
            "101018/101018 [==============================] - 634s 6ms/step - loss: 6.0258\n",
            "Epoch 2/10\n",
            "101018/101018 [==============================] - 630s 6ms/step - loss: 6.0262\n",
            "Epoch 3/10\n",
            " 35072/101018 [=========>....................] - ETA: 6:49 - loss: 6.0432"
          ],
          "name": "stdout"
        }
      ]
    },
    {
      "cell_type": "code",
      "metadata": {
        "id": "nfciOJS7QMot",
        "colab_type": "code",
        "outputId": "19d2db64-d5cc-4fbf-ff5f-e12ff5e5dffb",
        "colab": {
          "base_uri": "https://localhost:8080/",
          "height": 54
        }
      },
      "source": [
        "int_to_vocab = dict((i, c) for i, c in enumerate(vocab))\n"
      ],
      "execution_count": 0,
      "outputs": [
        {
          "output_type": "stream",
          "text": [
            "{0: u'', 1: u'.', 2: u'00seven', 3: u'0eight', 4: u'0eightsix', 5: u'0eighty', 6: u'0fivenine', 7: u'0fivesix', 8: u'0fourfour', 9: u'0fournine', 10: u'0foursix', 11: u'0fourthree', 12: u'0nineteen', 13: u'0oneeight', 14: u'0onefive', 15: u'0oneone', 16: u'0seven', 17: u'0sevenseven', 18: u'0sevensix', 19: u'0six', 20: u'0sixfive', 21: u'0sixnine', 22: u'0threenine', 23: u'0two', 24: u'0two0', 25: u'a', 26: u'ab', 27: u'abandon', 28: u'abh', 29: u'abid', 30: u'abide', 31: u'abl', 32: u'ablest', 33: u'abol', 34: u'abolit', 35: u'aborigin', 36: u'about', 37: u'abov', 38: u'abraham', 39: u'abridg', 40: u'abroad', 41: u'abrog', 42: u'absolv', 43: u'absorb', 44: u'abstain', 45: u'abstract', 46: u'absurd', 47: u'abund', 48: u'abus', 49: u'ac', 50: u'academy', 51: u'acc', 52: u'acceiv', 53: u'accel', 54: u'access', 55: u'accid', 56: u'accomac', 57: u'accommod', 58: u'accompany', 59: u'accompl', 60: u'accord', 61: u'account', 62: u'accredit', 63: u'accum', 64: u'accus', 65: u'accustom', 66: u'achiev', 67: u'acknowledg', 68: u'acquaint', 69: u'acquiesc', 70: u'acquir', 71: u'acquisit', 72: u'acr', 73: u'across', 74: u'act', 75: u'actu', 76: u'ad', 77: u'adam', 78: u'adapt', 79: u'addit', 80: u'address', 81: u'adequ', 82: u'adh', 83: u'adjac', 84: u'adjoin', 85: u'adjourn', 86: u'adjud', 87: u'adjust', 88: u'admin', 89: u'admir', 90: u'admiral', 91: u'admit', 92: u'adopt', 93: u'adv', 94: u'advers', 95: u'advoc', 96: u'affair', 97: u'affect', 98: u'affin', 99: u'affirm', 100: u'affix', 101: u'afflict', 102: u'afford', 103: u'aflo', 104: u'aforesaid', 105: u'afr', 106: u'afric', 107: u'aft', 108: u'afterward', 109: u'ag', 110: u'again', 111: u'against', 112: u'aggrav', 113: u'aggreg', 114: u'aggress', 115: u'agit', 116: u'ago', 117: u'agr', 118: u'agree', 119: u'agricult', 120: u'ah', 121: u'ahead', 122: u'aid', 123: u'aim', 124: u'akin', 125: u'al', 126: u'ala', 127: u'alabam', 128: u'alarm', 129: u'alexand', 130: u'alik', 131: u'allay', 132: u'alleg', 133: u'alleghany', 134: u'allegy', 135: u'allow', 136: u'allud', 137: u'almighty', 138: u'almost', 139: u'alon', 140: u'along', 141: u'already', 142: u'also', 143: u'alt', 144: u'alterc', 145: u'altern', 146: u'although', 147: u'altogeth', 148: u'alway', 149: u'aly', 150: u'am', 151: u'ambit', 152: u'amend', 153: u'americ', 154: u'amid', 155: u'ammunit', 156: u'amnesty', 157: u'among', 158: u'amongst', 159: u'amount', 160: u'ampl', 161: u'amply', 162: u'an', 163: u'anarchy', 164: u'ancest', 165: u'anch', 166: u'and', 167: u'anderson', 168: u'andr', 169: u'anew', 170: u'angel', 171: u'angry', 172: u'ann', 173: u'annex', 174: u'annount', 175: u'annu', 176: u'anom', 177: u'anoth', 178: u'answ', 179: u'ant', 180: u'antagon', 181: u'anticip', 182: u'antietam', 183: u'antithes', 184: u'anxy', 185: u'any', 186: u'anybody', 187: u'anyon', 188: u'anyth', 189: u'anywh', 190: u'ap', 191: u'apart', 192: u'aph', 193: u'apostroph', 194: u'app', 195: u'appear', 196: u'append', 197: u'appl', 198: u'applaud', 199: u'apply', 200: u'appoint', 201: u'appr', 202: u'apprecy', 203: u'apprehend', 204: u'approach', 205: u'approb', 206: u'appropry', 207: u'approv', 208: u'april', 209: u'apt', 210: u'aptest', 211: u'aptitud', 212: u'aqueduc', 213: u'ar', 214: u'arbit', 215: u'arbitra', 216: u'ard', 217: u'ardu', 218: u'are', 219: u'argentin', 220: u'argu', 221: u'aristocr', 222: u'arizon', 223: u'arkansa', 224: u'arm', 225: u'arma', 226: u'army', 227: u'aros', 228: u'around', 229: u'arrang', 230: u'array', 231: u'arrest', 232: u'art', 233: u'artic', 234: u'as', 235: u'ascend', 236: u'ascertain', 237: u'ascrib', 238: u'ash', 239: u'asid', 240: u'ask', 241: u'aspect', 242: u'assail', 243: u'assassin', 244: u'assault', 245: u'assembl', 246: u'assert', 247: u'assidu', 248: u'assign', 249: u'assist', 250: u'assocy', 251: u'assum', 252: u'aston', 253: u'astound', 254: u'asy', 255: u'asyl', 256: u'at', 257: u'atl', 258: u'atroc', 259: u'attach', 260: u'attack', 261: u'attain', 262: u'attempt', 263: u'attend', 264: u'attorney', 265: u'attract', 266: u'attribut', 267: u'audac', 268: u'audit', 269: u'aug', 270: u'aught', 271: u'august', 272: u'ausp', 273: u'auspicy', 274: u'austr', 275: u'auth', 276: u'authorit', 277: u'autumn', 278: u'auxy', 279: u'av', 280: u'avail', 281: u'avert', 282: u'avoc', 283: u'avoid', 284: u'avow', 285: u'aw', 286: u'await', 287: u'awak', 288: u'award', 289: u'away', 290: u'awhil', 291: u'ax', 292: u'axiom', 293: u'b', 294: u'ba', 295: u'back', 296: u'bad', 297: u'bagatel', 298: u'bal', 299: u'baldwin', 300: u'ballot', 301: u'ban', 302: u'bank', 303: u'bapt', 304: u'bar', 305: u'barb', 306: u'bark', 307: u'barry', 308: u'battery', 309: u'battl', 310: u'bay', 311: u'bayonet', 312: u'bayou', 313: u'be', 314: u'bear', 315: u'beard', 316: u'beat', 317: u'beauty', 318: u'becam', 319: u'becaus', 320: u'becom', 321: u'been', 322: u'bef', 323: u'befal', 324: u'befel', 325: u'beg', 326: u'begin', 327: u'behalf', 328: u'behemo', 329: u'behev', 330: u'behind', 331: u'behr', 332: u'being', 333: u'bel', 334: u'belab', 335: u'belg', 336: u'believ', 337: u'bellig', 338: u'belong', 339: u'below', 340: u'bench', 341: u'bend', 342: u'benef', 343: u'benefit', 344: u'benevol', 345: u'benight', 346: u'bent', 347: u'berkley', 348: u'bernard', 349: u'beseech', 350: u'beset', 351: u'besid', 352: u'besieg', 353: u'best', 354: u'bet', 355: u'betray', 356: u'between', 357: u'bew', 358: u'beyond', 359: u'bibl', 360: u'bid', 361: u'bier', 362: u'bil', 363: u'billow', 364: u'bind', 365: u'biograph', 366: u'bir', 367: u'bit', 368: u'black', 369: u'blam', 370: u'blank', 371: u'blast', 372: u'blee', 373: u'bless', 374: u'blind', 375: u'blockad', 376: u'blood', 377: u'bloodsh', 378: u'bloody', 379: u'blot', 380: u'blount', 381: u'blow', 382: u'board', 383: u'body', 384: u'bold', 385: u'boliv', 386: u'bombard', 387: u'bon', 388: u'bond', 389: u'bondsm', 390: u'book', 391: u'bor', 392: u'bord', 393: u'born', 394: u'borrow', 395: u'bos', 396: u'bosom', 397: u'both', 398: u'bought', 399: u'bound', 400: u'bounty', 401: u'bow', 402: u'bowy', 403: u'box', 404: u'branch', 405: u'brav', 406: u'brazil', 407: u'brea', 408: u'breach', 409: u'bread', 410: u'break', 411: u'breath', 412: u'bred', 413: u'bree', 414: u'brethr', 415: u'bridg', 416: u'brief', 417: u'brig', 418: u'brigad', 419: u'bright', 420: u'bril', 421: u'bring', 422: u'brit', 423: u'britain', 424: u'britan', 425: u'broad', 426: u'broil', 427: u'brok', 428: u'brood', 429: u'brooklyn', 430: u'broth', 431: u'brought', 432: u'brow', 433: u'brown', 434: u'buch', 435: u'buffalo', 436: u'build', 437: u'built', 438: u'bul', 439: u'bullet', 440: u'bur', 441: u'burd', 442: u'burea', 443: u'bureau', 444: u'burn', 445: u'bury', 446: u'busy', 447: u'but', 448: u'butch', 449: u'buy', 450: u'by', 451: u'c', 452: u'ca', 453: u'cabinet', 454: u'cadet', 455: u'cag', 456: u'cal', 457: u'calc', 458: u'calhoun', 459: u'californ', 460: u'calm', 461: u'cam', 462: u'camp', 463: u'campaign', 464: u'campbel', 465: u'can', 466: u'canad', 467: u'cancel', 468: u'cand', 469: u'candid', 470: u'cannon', 471: u'cannot', 472: u'canon', 473: u'cant', 474: u'canvas', 475: u'capac', 476: u'capit', 477: u'capitol', 478: u'capricy', 479: u'capt', 480: u'captain', 481: u'car', 482: u'cargo', 483: u'carolin', 484: u'carry', 485: u'carv', 486: u'cash', 487: u'cast', 488: u'casual', 489: u'catch', 490: u'cattl', 491: u'caus', 492: u'causeless', 493: u'caut', 494: u'cauty', 495: u'ce', 496: u'ceas', 497: u'ceaseless', 498: u'ced', 499: u'cens', 500: u'cent', 501: u'century', 502: u'cer', 503: u'ceremony', 504: u'cert', 505: u'certain', 506: u'certainty', 507: u'chair', 508: u'challeng', 509: u'chamb', 510: u'champ', 511: u'chang', 512: u'channel', 513: u'chant', 514: u'chaplain', 515: u'chapt', 516: u'char', 517: u'charact', 518: u'charg', 519: u'charl', 520: u'charleston', 521: u'chart', 522: u'chas', 523: u'che', 524: u'cheap', 525: u'cheapest', 526: u'check', 527: u'chees', 528: u'chem', 529: u'cher', 530: u'cherok', 531: u'chesapeak', 532: u'chicago', 533: u'chief', 534: u'chiefest', 535: u'chil', 536: u'child', 537: u'childr', 538: u'chin', 539: u'cho', 540: u'choos', 541: u'chop', 542: u'chor', 543: u'chord', 544: u'chos', 545: u'christian', 546: u'christianity', 547: u'cinnab', 548: u'circ', 549: u'circuit', 550: u'circumst', 551: u'cit', 552: u'city', 553: u'civil', 554: u'claim', 555: u'clam', 556: u'class', 557: u'claus', 558: u'clay', 559: u'clayon', 560: u'cle', 561: u'clear', 562: u'cleav', 563: u'clench', 564: u'clergym', 565: u'clerk', 566: u'clim', 567: u'cling', 568: u'clos', 569: u'co', 570: u'coal', 571: u'coast', 572: u'coat', 573: u'cod', 574: u'coerc', 575: u'coin', 576: u'coincid', 577: u'col', 578: u'cold', 579: u'collect', 580: u'collid', 581: u'colomb', 582: u'colon', 583: u'colonel', 584: u'colony', 585: u'colorado', 586: u'columb', 587: u'com', 588: u'comb', 589: u'combin', 590: u'come', 591: u'comfort', 592: u'command', 593: u'commem', 594: u'commend', 595: u'commerc', 596: u'commiss', 597: u'commit', 598: u'commod', 599: u'common', 600: u'commot', 601: u'commun', 602: u'comp', 603: u'company', 604: u'comparison', 605: u'compass', 606: u'compat', 607: u'compel', 608: u'compens', 609: u'compet', 610: u'complain', 611: u'complaint', 612: u'complet', 613: u'complex', 614: u'comply', 615: u'compos', 616: u'compound', 617: u'compr', 618: u'comprehend', 619: u'comprom', 620: u'con', 621: u'conceiv', 622: u'concern', 623: u'concert', 624: u'concess', 625: u'conclud', 626: u'concur', 627: u'condemn', 628: u'condit', 629: u'conduc', 630: u'conf', 631: u'confer', 632: u'confess', 633: u'confid', 634: u'confin', 635: u'confirm', 636: u'confisc', 637: u'conflict', 638: u'conform', 639: u'confound', 640: u'confront', 641: u'confus', 642: u'cong', 643: u'congrat', 644: u'congress', 645: u'conject', 646: u'conjunct', 647: u'conkl', 648: u'conklingmy', 649: u'connect', 650: u'connecticut', 651: u'conqu', 652: u'conquest', 653: u'conscienty', 654: u'conscy', 655: u'consecr', 656: u'consequ', 657: u'conserv', 658: u'consid', 659: u'consist', 660: u'consol', 661: u'conspicu', 662: u'const', 663: u'constitu', 664: u'constitut', 665: u'constrain', 666: u'constraint', 667: u'constru', 668: u'construct', 669: u'consul', 670: u'consult', 671: u'consum', 672: u'cont', 673: u'contact', 674: u'contain', 675: u'contemp', 676: u'contempl', 677: u'contempt', 678: u'contend', 679: u'contest', 680: u'contigu', 681: u'contin', 682: u'continu', 683: u'contraband', 684: u'contract', 685: u'contradict', 686: u'contrast', 687: u'contribut', 688: u'control', 689: u'controversy', 690: u'conv', 691: u'conveny', 692: u'convert', 693: u'convey', 694: u'convict', 695: u'convint', 696: u'convuls', 697: u'cool', 698: u'coop', 699: u'cop', 700: u'cord', 701: u'corn', 702: u'corp', 703: u'correct', 704: u'correspond', 705: u'corrob', 706: u'cost', 707: u'cotton', 708: u'could', 709: u'council', 710: u'counsel', 711: u'count', 712: u'countervail', 713: u'country', 714: u'countrym', 715: u'county', 716: u'coupl', 717: u'cours', 718: u'court', 719: u'cov', 720: u'covert', 721: u'cranberry', 722: u'crawl', 723: u'cre', 724: u'cred', 725: u'credit', 726: u'crim', 727: u'crimin', 728: u'cris', 729: u'crit', 730: u'crook', 731: u'crop', 732: u'cross', 733: u'crowd', 734: u'cru', 735: u'cruel', 736: u'crush', 737: u'cry', 738: u'cub', 739: u'cult', 740: u'cumberland', 741: u'cur', 742: u'curt', 743: u'custody', 744: u'custom', 745: u'cut', 746: u'd', 747: u'dakot', 748: u'dal', 749: u'dam', 750: u'damp', 751: u'dang', 752: u'daniel', 753: u'dar', 754: u'dark', 755: u'dat', 756: u'daught', 757: u'david', 758: u'day', 759: u'dayton', 760: u'dea', 761: u'dead', 762: u'deal', 763: u'dealt', 764: u'dear', 765: u'deb', 766: u'debauch', 767: u'debt', 768: u'dec', 769: u'deceas', 770: u'deceit', 771: u'deceiv', 772: u'decemb', 773: u'decen', 774: u'decid', 775: u'decl', 776: u'declam', 777: u'declin', 778: u'decr', 779: u'decreas', 780: u'ded', 781: u'deduc', 782: u'dee', 783: u'deem', 784: u'deep', 785: u'deepest', 786: u'deeply', 787: u'def', 788: u'defect', 789: u'defend', 790: u'defens', 791: u'defer', 792: u'deficy', 793: u'defin', 794: u'definit', 795: u'defy', 796: u'deg', 797: u'degr', 798: u'degrad', 799: u'del', 800: u'delaw', 801: u'delay', 802: u'deleg', 803: u'delib', 804: u'delight', 805: u'delivery', 806: u'dem', 807: u'demand', 808: u'demerit', 809: u'democr', 810: u'demon', 811: u'demonst', 812: u'den', 813: u'denmark', 814: u'denount', 815: u'denunt', 816: u'deny', 817: u'depart', 818: u'depend', 819: u'depl', 820: u'depop', 821: u'deport', 822: u'deposit', 823: u'depot', 824: u'depr', 825: u'deprec', 826: u'depress', 827: u'deputy', 828: u'der', 829: u'derang', 830: u'derog', 831: u'desc', 832: u'descend', 833: u'describ', 834: u'desert', 835: u'deserv', 836: u'design', 837: u'desir', 838: u'desp', 839: u'despair', 840: u'despit', 841: u'despot', 842: u'destitut', 843: u'destroy', 844: u'destruct', 845: u'det', 846: u'detach', 847: u'detail', 848: u'detain', 849: u'detect', 850: u'determin', 851: u'detract', 852: u'dev', 853: u'develop', 854: u'devolv', 855: u'devot', 856: u'dict', 857: u'did', 858: u'die', 859: u'died', 860: u'diff', 861: u'difficul', 862: u'difficult', 863: u'diffus', 864: u'dilig', 865: u'dimin', 866: u'diplom', 867: u'direct', 868: u'dirty', 869: u'dis', 870: u'disadv', 871: u'disagr', 872: u'disappear', 873: u'disapprov', 874: u'disast', 875: u'disavow', 876: u'disburs', 877: u'discard', 878: u'discern', 879: u'discharg', 880: u'disciplin', 881: u'disco', 882: u'discont', 883: u'discord', 884: u'discount', 885: u'discours', 886: u'discov', 887: u'discovery', 888: u'discrep', 889: u'discret', 890: u'discrimin', 891: u'discus', 892: u'diseas', 893: u'disenthral', 894: u'disgu', 895: u'dishon', 896: u'dishonest', 897: u'disintegr', 898: u'dislik', 899: u'disloy', 900: u'disloyal', 901: u'dismemb', 902: u'dispatch', 903: u'dispens', 904: u'dispers', 905: u'displac', 906: u'display', 907: u'dispos', 908: u'disposit', 909: u'disproport', 910: u'disprov', 911: u'disput', 912: u'disquiet', 913: u'disregard', 914: u'disrespect', 915: u'disrupt', 916: u'dissatisfact', 917: u'dissatisfy', 918: u'dissev', 919: u'dissolv', 920: u'dist', 921: u'distinct', 922: u'distract', 923: u'distribut', 924: u'district', 925: u'distrust', 926: u'disturb', 927: u'disun', 928: u'diver', 929: u'divert', 930: u'divest', 931: u'divid', 932: u'divin', 933: u'divorc', 934: u'dixon', 935: u'do', 936: u'dockyard', 937: u'doctrin', 938: u'docu', 939: u'doe', 940: u'dog', 941: u'dogm', 942: u'dogma', 943: u'doing', 944: u'doll', 945: u'domain', 946: u'domest', 947: u'domicil', 948: u'domin', 949: u'domingo', 950: u'don', 951: u'doom', 952: u'door', 953: u'doubl', 954: u'doubt', 955: u'doubtless', 956: u'dougla', 957: u'down', 958: u'doz', 959: u'dr', 960: u'draft', 961: u'draw', 962: u'drawn', 963: u'dread', 964: u'dream', 965: u'dred', 966: u'dress', 967: u'drew', 968: u'dril', 969: u'driv', 970: u'drop', 971: u'drov', 972: u'drown', 973: u'drug', 974: u'dry', 975: u'due', 976: u'duly', 977: u'dungeon', 978: u'dur', 979: u'dust', 980: u'duty', 981: u'dwindl', 982: u'dynasty', 983: u'each', 984: u'eag', 985: u'ear', 986: u'earliest', 987: u'earn', 988: u'earnest', 989: u'earth', 990: u'easiest', 991: u'east', 992: u'eastern', 993: u'eastward', 994: u'easy', 995: u'eat', 996: u'ecc', 997: u'echo', 998: u'econom', 999: u'educ', 1000: u'effect', 1001: u'efficy', 1002: u'effort', 1003: u'egypt', 1004: u'eigh', 1005: u'eight', 1006: u'eighteen', 1007: u'eighteightfo', 1008: u'eightf', 1009: u'eightfo', 1010: u'eightfouron', 1011: u'eightfoursix', 1012: u'eightfourtwo', 1013: u'eightnin', 1014: u'eightninef', 1015: u'eighton', 1016: u'eightonefo', 1017: u'eightsix', 1018: u'eightsixf', 1019: u'eightsixsev', 1020: u'eightsixsix', 1021: u'eightthr', 1022: u'eightthreef', 1023: u'eightthreefo', 1024: u'eighttwo0', 1025: u'eighttwosev', 1026: u'eighty', 1027: u'eighty0', 1028: u'eith', 1029: u'el', 1030: u'elab', 1031: u'elaps', 1032: u'elect', 1033: u'eleg', 1034: u'elev', 1035: u'elicit', 1036: u'elizabe', 1037: u'eloqu', 1038: u'elsewh', 1039: u'emancip', 1040: u'embarrass', 1041: u'embel', 1042: u'embit', 1043: u'embody', 1044: u'embold', 1045: u'embrac', 1046: u'embroil', 1047: u'emerg', 1048: u'emigr', 1049: u'emin', 1050: u'emiss', 1051: u'emolu', 1052: u'emp', 1053: u'emph', 1054: u'empir', 1055: u'employ', 1056: u'en', 1057: u'enact', 1058: u'ench', 1059: u'encirc', 1060: u'enco', 1061: u'encount', 1062: u'end', 1063: u'endang', 1064: u'endors', 1065: u'endow', 1066: u'enemy', 1067: u'energet', 1068: u'energy', 1069: u'enforc', 1070: u'eng', 1071: u'engin', 1072: u'engl', 1073: u'england', 1074: u'engross', 1075: u'enh', 1076: u'enjoin', 1077: u'enjoy', 1078: u'enlarg', 1079: u'enlight', 1080: u'enough', 1081: u'enrol', 1082: u'enslav', 1083: u'ensu', 1084: u'ent', 1085: u'enterpr', 1086: u'entertain', 1087: u'enthusiasm', 1088: u'enthusiast', 1089: u'entir', 1090: u'entitl', 1091: u'entrap', 1092: u'entrust', 1093: u'enum', 1094: u'eq', 1095: u'equ', 1096: u'equip', 1097: u'equit', 1098: u'er', 1099: u'erad', 1100: u'erron', 1101: u'es', 1102: u'escap', 1103: u'eschew', 1104: u'esp', 1105: u'espec', 1106: u'est', 1107: u'esteem', 1108: u'estim', 1109: u'estoppel', 1110: u'etern', 1111: u'eulog', 1112: u'europ', 1113: u'ev', 1114: u'evacu', 1115: u'evad', 1116: u'evanesc', 1117: u'every', 1118: u'everybody', 1119: u'everyth', 1120: u'everywh', 1121: u'evid', 1122: u'evil', 1123: u'evint', 1124: u'ex', 1125: u'exact', 1126: u'exag', 1127: u'examin', 1128: u'exampl', 1129: u'exceiv', 1130: u'excel', 1131: u'excess', 1132: u'exchang', 1133: u'excit', 1134: u'exclud', 1135: u'excus', 1136: u'execr', 1137: u'execut', 1138: u'exempt', 1139: u'exerc', 1140: u'exhaust', 1141: u'exhibit', 1142: u'exhort', 1143: u'exig', 1144: u'exorc', 1145: u'expand', 1146: u'expatry', 1147: u'expect', 1148: u'expedit', 1149: u'expedy', 1150: u'expel', 1151: u'expend', 1152: u'expendit', 1153: u'expens', 1154: u'expery', 1155: u'expir', 1156: u'expl', 1157: u'explicit', 1158: u'expo', 1159: u'express', 1160: u'ext', 1161: u'extend', 1162: u'extern', 1163: u'extinct', 1164: u'extort', 1165: u'extract', 1166: u'extraordin', 1167: u'extrav', 1168: u'extrem', 1169: u'ey', 1170: u'fabr', 1171: u'fac', 1172: u'facil', 1173: u'facilit', 1174: u'fact', 1175: u'facty', 1176: u'fai', 1177: u'fail', 1178: u'fair', 1179: u'faith', 1180: u'fal', 1181: u'fals', 1182: u'falt', 1183: u'fam', 1184: u'famili', 1185: u'famy', 1186: u'fant', 1187: u'fantast', 1188: u'far', 1189: u'farc', 1190: u'farewel', 1191: u'farm', 1192: u'farth', 1193: u'fast', 1194: u'fat', 1195: u'fath', 1196: u'fault', 1197: u'fav', 1198: u'fayet', 1199: u'fear', 1200: u'fearless', 1201: u'feat', 1202: u'febru', 1203: u'fed', 1204: u'fee', 1205: u'feebl', 1206: u'feel', 1207: u'fel', 1208: u'felicit', 1209: u'fellow', 1210: u'felt', 1211: u'fem', 1212: u'fernandin', 1213: u'feroc', 1214: u'ferry', 1215: u'fertil', 1216: u'ferv', 1217: u'feud', 1218: u'few', 1219: u'fid', 1220: u'fidel', 1221: u'field', 1222: u'fierc', 1223: u'fiery', 1224: u'fif', 1225: u'fifteen', 1226: u'fifty', 1227: u'fifty0', 1228: u'fiftyf', 1229: u'fiftyfo', 1230: u'fiftynin', 1231: u'fig', 1232: u'fight', 1233: u'fil', 1234: u'fin', 1235: u'find', 1236: u'finest', 1237: u'fing', 1238: u'fir', 1239: u'firm', 1240: u'firmess', 1241: u'first', 1242: u'fisc', 1243: u'fit', 1244: u'fiv', 1245: u'five', 1246: u'fiveeight', 1247: u'fiveeighteight', 1248: u'fiveeightfo', 1249: u'fiveeightthr', 1250: u'fivefifty', 1251: u'fivefournin', 1252: u'fivefoursix', 1253: u'fivenin', 1254: u'fivesev', 1255: u'fiveseven0', 1256: u'fiveseveneight', 1257: u'fivesix', 1258: u'fivesixnin', 1259: u'fivesixsev', 1260: u'fivethirty', 1261: u'fivethr', 1262: u'fivethreeeight', 1263: u'fix', 1264: u'flag', 1265: u'flagr', 1266: u'flat', 1267: u'flaunt', 1268: u'fle', 1269: u'fled', 1270: u'fli', 1271: u'flo', 1272: u'florid', 1273: u'flow', 1274: u'fluctu', 1275: u'flush', 1276: u'flut', 1277: u'fly', 1278: u'foe', 1279: u'fol', 1280: u'follow', 1281: u'fond', 1282: u'fondest', 1283: u'fool', 1284: u'foot', 1285: u'for', 1286: u'forb', 1287: u'forbad', 1288: u'forbear', 1289: u'forbid', 1290: u'forborn', 1291: u'forc', 1292: u'forego', 1293: u'foreign', 1294: u'foresaw', 1295: u'foreseen', 1296: u'foreshadow', 1297: u'foresight', 1298: u'forestal', 1299: u'forev', 1300: u'forfeit', 1301: u'forget', 1302: u'forgot', 1303: u'form', 1304: u'formid', 1305: u'formul', 1306: u'forsak', 1307: u'fort', 1308: u'forthcom', 1309: u'fortun', 1310: u'forty', 1311: u'fortyeight', 1312: u'forward', 1313: u'fost', 1314: u'fought', 1315: u'foul', 1316: u'found', 1317: u'foundry', 1318: u'four', 1319: u'four0', 1320: u'four00', 1321: u'four0five', 1322: u'four0seven', 1323: u'foureightf', 1324: u'foureightnin', 1325: u'foureighton', 1326: u'foureighty', 1327: u'fourf', 1328: u'fourfivesix', 1329: u'fourfivethr', 1330: u'fourfoureight', 1331: u'fourfoursix', 1332: u'fourfourthr', 1333: u'fournin', 1334: u'fouronef', 1335: u'fouronesev', 1336: u'foursev', 1337: u'fourseven0', 1338: u'foursevenf', 1339: u'foursevenfo', 1340: u'foursevensix', 1341: u'foursix', 1342: u'foursix0', 1343: u'foursixtwo', 1344: u'fourteen', 1345: u'fourth', 1346: u'fourthirty', 1347: u'fourthreeeight', 1348: u'fourthreethr', 1349: u'fourtwo', 1350: u'fourtwoon', 1351: u'fourtwosev', 1352: u'fract', 1353: u'frag', 1354: u'fram', 1355: u'framework', 1356: u'francisco', 1357: u'frank', 1358: u'franklin', 1359: u'frant', 1360: u'fratern', 1361: u'fraud', 1362: u'fre', 1363: u'free', 1364: u'freedm', 1365: u'freedom', 1366: u'freem', 1367: u'french', 1368: u'frequ', 1369: u'fresh', 1370: u'friend', 1371: u'fright', 1372: u'from', 1373: u'front', 1374: u'fronty', 1375: u'fruit', 1376: u'frust', 1377: u'fuel', 1378: u'fugit', 1379: u'ful', 1380: u'fulfil', 1381: u'fullest', 1382: u'funct', 1383: u'fund', 1384: u'funda', 1385: u'furn', 1386: u'furth', 1387: u'fut', 1388: u'gag', 1389: u'gain', 1390: u'gal', 1391: u'gap', 1392: u'garrison', 1393: u'gath', 1394: u'gav', 1395: u'gen', 1396: u'geni', 1397: u'gentil', 1398: u'gentlem', 1399: u'genuin', 1400: u'geograph', 1401: u'georg', 1402: u'get', 1403: u'gettysburg', 1404: u'giant', 1405: u'gid', 1406: u'gift', 1407: u'giv', 1408: u'glad', 1409: u'glant', 1410: u'gle', 1411: u'glimps', 1412: u'glob', 1413: u'gloom', 1414: u'glory', 1415: u'go', 1416: u'god', 1417: u'goe', 1418: u'going', 1419: u'gold', 1420: u'gon', 1421: u'good', 1422: u'gosport', 1423: u'got', 1424: u'gouvern', 1425: u'govern', 1426: u'grab', 1427: u'grac', 1428: u'gracy', 1429: u'grad', 1430: u'grain', 1431: u'granad', 1432: u'grand', 1433: u'grant', 1434: u'grasp', 1435: u'grass', 1436: u'grat', 1437: u'gratitud', 1438: u'grav', 1439: u'gravest', 1440: u'gre', 1441: u'greatest', 1442: u'greec', 1443: u'greedy', 1444: u'greek', 1445: u'grew', 1446: u'grief', 1447: u'griev', 1448: u'grip', 1449: u'grop', 1450: u'gross', 1451: u'ground', 1452: u'groundless', 1453: u'grow', 1454: u'grown', 1455: u'grudg', 1456: u'guar', 1457: u'guarantee', 1458: u'guaranty', 1459: u'guard', 1460: u'gui', 1461: u'guid', 1462: u'guil', 1463: u'guilt', 1464: u'gulf', 1465: u'gun', 1466: u'gunbo', 1467: u'gur', 1468: u'h', 1469: u'ha', 1470: u'habea', 1471: u'habit', 1472: u'hackney', 1473: u'had', 1474: u'hail', 1475: u'hal', 1476: u'half', 1477: u'hallow', 1478: u'halt', 1479: u'hamilton', 1480: u'hampshir', 1481: u'hand', 1482: u'handkerchief', 1483: u'hang', 1484: u'hanov', 1485: u'hap', 1486: u'happy', 1487: u'harb', 1488: u'hard', 1489: u'harm', 1490: u'harmon', 1491: u'harmony', 1492: u'harp', 1493: u'harrison', 1494: u'harvest', 1495: u'hast', 1496: u'hasty', 1497: u'hat', 1498: u'hath', 1499: u'hattera', 1500: u'haughty', 1501: u'hav', 1502: u'hayt', 1503: u'hazard', 1504: u'hazzard', 1505: u'he', 1506: u'head', 1507: u'heal', 1508: u'hear', 1509: u'heard', 1510: u'heart', 1511: u'hearthston', 1512: u'hearty', 1513: u'heat', 1514: u'heav', 1515: u'heaviest', 1516: u'heavy', 1517: u'hedg', 1518: u'held', 1519: u'help', 1520: u'hem', 1521: u'hemisph', 1522: u'hencefor', 1523: u'henceforward', 1524: u'henry', 1525: u'hent', 1526: u'her', 1527: u'hereaft', 1528: u'hereby', 1529: u'heredit', 1530: u'hereinaft', 1531: u'hereinbef', 1532: u'heresy', 1533: u'heretof', 1534: u'hereunto', 1535: u'herewi', 1536: u'hero', 1537: u'herself', 1538: u'hertof', 1539: u'hesit', 1540: u'hew', 1541: u'hid', 1542: u'high', 1543: u'highest', 1544: u'highwaym', 1545: u'him', 1546: u'himself', 1547: u'hind', 1548: u'hint', 1549: u'hir', 1550: u'his', 1551: u'hist', 1552: u'hitchcock', 1553: u'hitherto', 1554: u'hog', 1555: u'hold', 1556: u'hom', 1557: u'homestead', 1558: u'hon', 1559: u'hondura', 1560: u'honest', 1561: u'hoot', 1562: u'hop', 1563: u'hopeless', 1564: u'horn', 1565: u'horr', 1566: u'hors', 1567: u'hospit', 1568: u'host', 1569: u'hostil', 1570: u'hot', 1571: u'hour', 1572: u'hous', 1573: u'household', 1574: u'how', 1575: u'howev', 1576: u'hudson', 1577: u'hug', 1578: u'hugh', 1579: u'hum', 1580: u'hundr', 1581: u'hung', 1582: u'hungry', 1583: u'hurry', 1584: u'hurt', 1585: u'husband', 1586: u'hush', 1587: u'hypercrit', 1588: u'hypocrit', 1589: u'i', 1590: u'id', 1591: u'idaho', 1592: u'ide', 1593: u'if', 1594: u'ign', 1595: u'il', 1596: u'illeg', 1597: u'illib', 1598: u'illicit', 1599: u'illino', 1600: u'illust', 1601: u'illustry', 1602: u'imagin', 1603: u'immedy', 1604: u'immens', 1605: u'immigr', 1606: u'immort', 1607: u'immun', 1608: u'imp', 1609: u'impair', 1610: u'impart', 1611: u'impass', 1612: u'impend', 1613: u'imperfect', 1614: u'imperil', 1615: u'impl', 1616: u'implicit', 1617: u'imply', 1618: u'import', 1619: u'impos', 1620: u'imposs', 1621: u'impost', 1622: u'impract', 1623: u'impress', 1624: u'imprison', 1625: u'improb', 1626: u'improp', 1627: u'impropry', 1628: u'improv', 1629: u'impud', 1630: u'impugn', 1631: u'impuls', 1632: u'impun', 1633: u'in', 1634: u'ina', 1635: u'inact', 1636: u'inadequ', 1637: u'inadmiss', 1638: u'inasmuch', 1639: u'inaug', 1640: u'inceiv', 1641: u'inch', 1642: u'incid', 1643: u'incipy', 1644: u'inclin', 1645: u'inclos', 1646: u'includ', 1647: u'incom', 1648: u'incomplet', 1649: u'inconsid', 1650: u'inconsist', 1651: u'inconst', 1652: u'inconveny', 1653: u'incorp', 1654: u'increas', 1655: u'incumb', 1656: u'incurs', 1657: u'ind', 1658: u'indebt', 1659: u'indee', 1660: u'indefinit', 1661: u'indemn', 1662: u'independ', 1663: u'indian', 1664: u'indiff', 1665: u'indirect', 1666: u'indiscrimin', 1667: u'indispens', 1668: u'individ', 1669: u'indomit', 1670: u'indors', 1671: u'induc', 1672: u'indulg', 1673: u'indust', 1674: u'industry', 1675: u'ineffect', 1676: u'inevit', 1677: u'inexcus', 1678: u'inexhaust', 1679: u'inexpedy', 1680: u'inf', 1681: u'infer', 1682: u'infery', 1683: u'inflex', 1684: u'inflict', 1685: u'influ', 1686: u'inform', 1687: u'ingenu', 1688: u'ingeny', 1689: u'inh', 1690: u'inhabit', 1691: u'inhum', 1692: u'inim', 1693: u'init', 1694: u'injury', 1695: u'injust', 1696: u'inland', 1697: u'innoc', 1698: u'innov', 1699: u'inop', 1700: u'inquir', 1701: u'inquiry', 1702: u'inscrut', 1703: u'insec', 1704: u'insert', 1705: u'insidy', 1706: u'insign', 1707: u'insinu', 1708: u'insist', 1709: u'insomuch', 1710: u'inspect', 1711: u'inspir', 1712: u'inst', 1713: u'instal', 1714: u'instead', 1715: u'instinct', 1716: u'institut', 1717: u'instru', 1718: u'instruct', 1719: u'insubordin', 1720: u'insurg', 1721: u'insurrect', 1722: u'int', 1723: u'integr', 1724: u'intellig', 1725: u'intend', 1726: u'intercours', 1727: u'interest', 1728: u'interf', 1729: u'intermedy', 1730: u'intermingl', 1731: u'intermit', 1732: u'intern', 1733: u'interoc', 1734: u'interpos', 1735: u'interposit', 1736: u'interrupt', 1737: u'interv', 1738: u'intery', 1739: u'intestin', 1740: u'intim', 1741: u'into', 1742: u'intrins', 1743: u'introduc', 1744: u'intrust', 1745: u'inv', 1746: u'invalid', 1747: u'invas', 1748: u'invest', 1749: u'investig', 1750: u'inviol', 1751: u'invit', 1752: u'invoc', 1753: u'invok', 1754: u'involunt', 1755: u'involv', 1756: u'iow', 1757: u'iron', 1758: u'ironclad', 1759: u'irony', 1760: u'irrevoc', 1761: u'irrit', 1762: u'irrupt', 1763: u'is', 1764: u'isl', 1765: u'island', 1766: u'isol', 1767: u'issu', 1768: u'it', 1769: u'ita', 1770: u'itself', 1771: u'jackson', 1772: u'jam', 1773: u'janu', 1774: u'jap', 1775: u'jeal', 1776: u'jealousy', 1777: u'jefferson', 1778: u'jeopardy', 1779: u'jersey', 1780: u'jewel', 1781: u'job', 1782: u'jog', 1783: u'john', 1784: u'join', 1785: u'joint', 1786: u'jonath', 1787: u'jostl', 1788: u'jot', 1789: u'journ', 1790: u'joy', 1791: u'juan', 1792: u'jud', 1793: u'judg', 1794: u'judicy', 1795: u'july', 1796: u'jun', 1797: u'jurisdict', 1798: u'jurisprud', 1799: u'just', 1800: u'kansa', 1801: u'kaskask', 1802: u'keep', 1803: u'kentucky', 1804: u'kept', 1805: u'key', 1806: u'kick', 1807: u'kil', 1808: u'kind', 1809: u'kindest', 1810: u'kindr', 1811: u'king', 1812: u'knel', 1813: u'knew', 1814: u'kniv', 1815: u'knock', 1816: u'know', 1817: u'knowledg', 1818: u'known', 1819: u'knoxvil', 1820: u'la', 1821: u'lab', 1822: u'lack', 1823: u'lafourch', 1824: u'laid', 1825: u'lain', 1826: u'lak', 1827: u'lam', 1828: u'land', 1829: u'langdon', 1830: u'langu', 1831: u'larg', 1832: u'largest', 1833: u'lash', 1834: u'last', 1835: u'lat', 1836: u'latest', 1837: u'latitud', 1838: u'laud', 1839: u'law', 1840: u'lawg', 1841: u'lawless', 1842: u'lawy', 1843: u'lay', 1844: u'le', 1845: u'lead', 1846: u'learn', 1847: u'least', 1848: u'leav', 1849: u'lebanon', 1850: u'lecompton', 1851: u'led', 1852: u'lee', 1853: u'left', 1854: u'leg', 1855: u'legisl', 1856: u'legitim', 1857: u'lei', 1858: u'leng', 1859: u'length', 1860: u'lengthy', 1861: u'lent', 1862: u'lesson', 1863: u'lest', 1864: u'let', 1865: u'lev', 1866: u'level', 1867: u'lexington', 1868: u'liabl', 1869: u'lib', 1870: u'liber', 1871: u'liberty', 1872: u'lic', 1873: u'licens', 1874: u'lick', 1875: u'lie', 1876: u'lieu', 1877: u'lieut', 1878: u'lif', 1879: u'lift', 1880: u'light', 1881: u'lik', 1882: u'likew', 1883: u'lim', 1884: u'limit', 1885: u'lin', 1886: u'lincoln', 1887: u'lion', 1888: u'liquid', 1889: u'list', 1890: u'lit', 1891: u'litig', 1892: u'littl', 1893: u'liv', 1894: u'livery', 1895: u'lo', 1896: u'loa', 1897: u'loaf', 1898: u'loan', 1899: u'loc', 1900: u'log', 1901: u'london', 1902: u'long', 1903: u'loo', 1904: u'look', 1905: u'lord', 1906: u'los', 1907: u'loss', 1908: u'lost', 1909: u'lot', 1910: u'lou', 1911: u'loud', 1912: u'louisian', 1913: u'lov', 1914: u'low', 1915: u'lowest', 1916: u'loy', 1917: u'loyal', 1918: u'lug', 1919: u'lullaby', 1920: u'lump', 1921: u'lying', 1922: u'm', 1923: u'macedon', 1924: u'machinery', 1925: u'machiney', 1926: u'macy', 1927: u'mad', 1928: u'mag', 1929: u'magn', 1930: u'magnitud', 1931: u'mail', 1932: u'main', 1933: u'maint', 1934: u'maintain', 1935: u'maj', 1936: u'majest', 1937: u'majesty', 1938: u'mak', 1939: u'mal', 1940: u'malicy', 1941: u'malign', 1942: u'mammon', 1943: u'man', 1944: u'mand', 1945: u'manifest', 1946: u'mankind', 1947: u'mantl', 1948: u'manufact', 1949: u'many', 1950: u'map', 1951: u'mar', 1952: u'march', 1953: u'margin', 1954: u'maritim', 1955: u'mark', 1956: u'market', 1957: u'marsh', 1958: u'martin', 1959: u'mary', 1960: u'maryland', 1961: u'mason', 1962: u'mass', 1963: u'massachuset', 1964: u'massacr', 1965: u'mast', 1966: u'mat', 1967: u'matern', 1968: u'mathem', 1969: u'may', 1970: u'mcclellan', 1971: u'mclean', 1972: u'me', 1973: u'mead', 1974: u'mean', 1975: u'meant', 1976: u'meanwhil', 1977: u'meas', 1978: u'mech', 1979: u'med', 1980: u'meet', 1981: u'melancho', 1982: u'mely', 1983: u'mem', 1984: u'memb', 1985: u'memorand', 1986: u'men', 1987: u'menac', 1988: u'ment', 1989: u'mer', 1990: u'merch', 1991: u'merchand', 1992: u'merit', 1993: u'mess', 1994: u'met', 1995: u'mex', 1996: u'mexico', 1997: u'mi', 1998: u'michig', 1999: u'microscop', 2000: u'middl', 2001: u'midshipm', 2002: u'midst', 2003: u'mifflin', 2004: u'might', 2005: u'mighty', 2006: u'migr', 2007: u'mil', 2008: u'milit', 2009: u'min', 2010: u'mind', 2011: u'mingl', 2012: u'minnesot', 2013: u'mint', 2014: u'minut', 2015: u'mirac', 2016: u'misapprehend', 2017: u'miscel', 2018: u'mischief', 2019: u'mischiev', 2020: u'misconstruct', 2021: u'misery', 2022: u'mislead', 2023: u'misnam', 2024: u'misrepres', 2025: u'miss', 2026: u'mississipp', 2027: u'misso', 2028: u'missour', 2029: u'mistak', 2030: u'misunderstand', 2031: u'misunderstood', 2032: u'mitig', 2033: u'mix', 2034: u'mod', 2035: u'model', 2036: u'modern', 2037: u'mold', 2038: u'mom', 2039: u'mon', 2040: u'monarchy', 2041: u'money', 2042: u'monst', 2043: u'montan', 2044: u'montgomery', 2045: u'month', 2046: u'moon', 2047: u'mor', 2048: u'moreov', 2049: u'morocco', 2050: u'mort', 2051: u'most', 2052: u'mot', 2053: u'moth', 2054: u'mou', 2055: u'mould', 2056: u'mount', 2057: u'mountain', 2058: u'mourn', 2059: u'mov', 2060: u'mr', 2061: u'much', 2062: u'muddy', 2063: u'multiply', 2064: u'munit', 2065: u'murd', 2066: u'murfreesboro', 2067: u'musket', 2068: u'must', 2069: u'mut', 2070: u'muzzl', 2071: u'my', 2072: u'myself', 2073: u'myst', 2074: u'mystery', 2075: u'nak', 2076: u'nam', 2077: u'namesth', 2078: u'napoleon', 2079: u'narrow', 2080: u'narrowest', 2081: u'nat', 2082: u'nav', 2083: u'navig', 2084: u'navy', 2085: u'nay', 2086: u'near', 2087: u'nearest', 2088: u'nebr', 2089: u'nebrask', 2090: u'necess', 2091: u'nee', 2092: u'neg', 2093: u'neglect', 2094: u'negocy', 2095: u'negoty', 2096: u'negro', 2097: u'neighb', 2098: u'neith', 2099: u'nelson', 2100: u'nerv', 2101: u'nest', 2102: u'net', 2103: u'netherland', 2104: u'neut', 2105: u'nev', 2106: u'nevad', 2107: u'nevertheless', 2108: u'new', 2109: u'newspap', 2110: u'next', 2111: u'nic', 2112: u'nicaragu', 2113: u'nich', 2114: u'nicholasvil', 2115: u'night', 2116: u'nin', 2117: u'nineeight', 2118: u'nineeightf', 2119: u'nineeightfo', 2120: u'nineeighttwo', 2121: u'ninef', 2122: u'ninefo', 2123: u'nineoneeight', 2124: u'nineonefo', 2125: u'nineoneon', 2126: u'ninesev', 2127: u'ninesix', 2128: u'ninesixsev', 2129: u'ninesixsix', 2130: u'ninesixthr', 2131: u'nineteen', 2132: u'nineteen0', 2133: u'nineteen00', 2134: u'nineteeneight', 2135: u'nineteenon', 2136: u'nineteenone0', 2137: u'nineteenthirty', 2138: u'nineteentwo0', 2139: u'nineteentwof', 2140: u'ninethirty', 2141: u'ninethreenin', 2142: u'ninethreeon', 2143: u'ninethreesev', 2144: u'ninetwo', 2145: u'ninetwonin', 2146: u'ninetwotwo', 2147: u'ninety0', 2148: u'ninetyf', 2149: u'ninetyon', 2150: u'no', 2151: u'nobl', 2152: u'noblest', 2153: u'nobody', 2154: u'nomin', 2155: u'non', 2156: u'nor', 2157: u'norfolk', 2158: u'northampton', 2159: u'northeastern', 2160: u'northern', 2161: u'northward', 2162: u'northwest', 2163: u'northwestern', 2164: u'norweg', 2165: u'not', 2166: u'noteworthy', 2167: u'noth', 2168: u'notwithstand', 2169: u'novel', 2170: u'novemb', 2171: u'now', 2172: u'nul', 2173: u'num', 2174: u'numb', 2175: u'oa', 2176: u'oath', 2177: u'obedy', 2178: u'obey', 2179: u'object', 2180: u'oblig', 2181: u'oblit', 2182: u'obnoxy', 2183: u'obsc', 2184: u'observ', 2185: u'obstac', 2186: u'obstin', 2187: u'obstruct', 2188: u'obtain', 2189: u'obvy', 2190: u'oc', 2191: u'occ', 2192: u'occas', 2193: u'occup', 2194: u'occupy', 2195: u'occur', 2196: u'octob', 2197: u'od', 2198: u'ody', 2199: u'of', 2200: u'of____for', 2201: u'off', 2202: u'offend', 2203: u'offens', 2204: u'officc', 2205: u'oft', 2206: u'oh', 2207: u'ohio', 2208: u'oil', 2209: u'old', 2210: u'oldest', 2211: u'omah', 2212: u'omit', 2213: u'omnipot', 2214: u'on', 2215: u'one0', 2216: u'one00', 2217: u'one0fiv', 2218: u'one0on', 2219: u'one0thr', 2220: u'one0two', 2221: u'oneeight', 2222: u'oneeighteighty', 2223: u'oneeightfivenin', 2224: u'oneeightfour0', 2225: u'oneeightfoursix', 2226: u'oneeightnin', 2227: u'oneeighton', 2228: u'oneeightsix', 2229: u'oneeightsix0', 2230: u'oneeightsixfo', 2231: u'oneeightsixon', 2232: u'oneeightsixthr', 2233: u'oneeightsixtwo', 2234: u'oneeightthirty', 2235: u'oneeighttwelv', 2236: u'oneeighty', 2237: u'oneeightyfo', 2238: u'onefifty', 2239: u'onefive', 2240: u'onefivesev', 2241: u'onefo', 2242: u'onefourf', 2243: u'onenin', 2244: u'oneon', 2245: u'oneone', 2246: u'oneonesev', 2247: u'onesev', 2248: u'oneseven', 2249: u'oneseveneightfo', 2250: u'oneseveneightnin', 2251: u'oneseveneighty', 2252: u'onesevennin', 2253: u'onesevenninefo', 2254: u'onesevenseveneight', 2255: u'onesevensevenfo', 2256: u'onesix', 2257: u'onesixon', 2258: u'onesixsev', 2259: u'onesixthr', 2260: u'onest', 2261: u'onethr', 2262: u'onethreeeight', 2263: u'onethreefo', 2264: u'onethreeon', 2265: u'onethreesev', 2266: u'onethreesix', 2267: u'onethreethr', 2268: u'onetwelv', 2269: u'onset', 2270: u'ont', 2271: u'op', 2272: u'opin', 2273: u'oppon', 2274: u'opportun', 2275: u'oppos', 2276: u'opposit', 2277: u'oppress', 2278: u'opt', 2279: u'or', 2280: u'ord', 2281: u'ordain', 2282: u'ordin', 2283: u'ordinay', 2284: u'ordn', 2285: u'oregon', 2286: u'org', 2287: u'origin', 2288: u'orl', 2289: u'orph', 2290: u'orsin', 2291: u'ory', 2292: u'ot', 2293: u'oth', 2294: u'otherw', 2295: u'ought', 2296: u'our', 2297: u'ourselv', 2298: u'out', 2299: u'outbreak', 2300: u'outgo', 2301: u'outgrown', 2302: u'outlaw', 2303: u'outlay', 2304: u'outlet', 2305: u'outnumb', 2306: u'outsid', 2307: u'ov', 2308: u'overcom', 2309: u'overflow', 2310: u'overland', 2311: u'overlook', 2312: u'overr', 2313: u'overreach', 2314: u'overrun', 2315: u'overthrow', 2316: u'overthrown', 2317: u'overwhelm', 2318: u'ow', 2319: u'own', 2320: u'oyst', 2321: u'p', 2322: u'pac', 2323: u'pag', 2324: u'paid', 2325: u'pain', 2326: u'pal', 2327: u'palp', 2328: u'pamp', 2329: u'pan', 2330: u'pap', 2331: u'par', 2332: u'paragraph', 2333: u'paraguay', 2334: u'parallel', 2335: u'paraphras', 2336: u'parcel', 2337: u'parch', 2338: u'pardon', 2339: u'part', 2340: u'particip', 2341: u'particul', 2342: u'partn', 2343: u'party', 2344: u'pas', 2345: u'pash', 2346: u'passe', 2347: u'passeng', 2348: u'past', 2349: u'pat', 2350: u'path', 2351: u'pathet', 2352: u'patho', 2353: u'patriot', 2354: u'patron', 2355: u'paty', 2356: u'paus', 2357: u'pay', 2358: u'paymast', 2359: u'peac', 2360: u'peculi', 2361: u'pecuny', 2362: u'peep', 2363: u'pen', 2364: u'penal', 2365: u'pend', 2366: u'penet', 2367: u'peninsul', 2368: u'penniless', 2369: u'pennsylvan', 2370: u'pensacol', 2371: u'peopl', 2372: u'per', 2373: u'perc', 2374: u'perceiv', 2375: u'perch', 2376: u'perfect', 2377: u'perform', 2378: u'perhap', 2379: u'peril', 2380: u'period', 2381: u'perjury', 2382: u'perm', 2383: u'permit', 2384: u'perpet', 2385: u'perpetu', 2386: u'perplex', 2387: u'persev', 2388: u'persist', 2389: u'person', 2390: u'perspicu', 2391: u'persuas', 2392: u'pertain', 2393: u'perthshir', 2394: u'peru', 2395: u'pervers', 2396: u'pervert', 2397: u'pet', 2398: u'petit', 2399: u'pettit', 2400: u'petty', 2401: u'pharaoh', 2402: u'phas', 2403: u'philanthrop', 2404: u'phillip', 2405: u'philosoph', 2406: u'phrase', 2407: u'phys', 2408: u'pick', 2409: u'piec', 2410: u'pil', 2411: u'pinckney', 2412: u'pir', 2413: u'pistol', 2414: u'pitchfork', 2415: u'pity', 2416: u'plac', 2417: u'plagu', 2418: u'plain', 2419: u'plan', 2420: u'plant', 2421: u'plaquemin', 2422: u'platform', 2423: u'plaus', 2424: u'play', 2425: u'ple', 2426: u'plea', 2427: u'plead', 2428: u'pledg', 2429: u'pli', 2430: u'plight', 2431: u'plow', 2432: u'po', 2433: u'poet', 2434: u'poi', 2435: u'point', 2436: u'pol', 2437: u'policy', 2438: u'polit', 2439: u'polk', 2440: u'poor', 2441: u'pop', 2442: u'popul', 2443: u'port', 2444: u'portsmou', 2445: u'portug', 2446: u'posit', 2447: u'posse', 2448: u'post', 2449: u'postmast', 2450: u'potomac', 2451: u'pour', 2452: u'poverty', 2453: u'pow', 2454: u'pract', 2455: u'pray', 2456: u'pre', 2457: u'preach', 2458: u'preambl', 2459: u'prec', 2460: u'precaut', 2461: u'preceiv', 2462: u'precid', 2463: u'precipit', 2464: u'preconcert', 2465: u'precy', 2466: u'predecess', 2467: u'predict', 2468: u'predomin', 2469: u'preemin', 2470: u'pref', 2471: u'prefer', 2472: u'prejud', 2473: u'prelimin', 2474: u'prem', 2475: u'prep', 2476: u'prepond', 2477: u'prerequisit', 2478: u'pres', 2479: u'prescrib', 2480: u'preserv', 2481: u'presid', 2482: u'press', 2483: u'presum', 2484: u'presumptu', 2485: u'pretend', 2486: u'pretens', 2487: u'pretext', 2488: u'prev', 2489: u'prevail', 2490: u'prevy', 2491: u'pri', 2492: u'pric', 2493: u'prid', 2494: u'prim', 2495: u'princess', 2496: u'princip', 2497: u'principl', 2498: u'print', 2499: u'prison', 2500: u'priv', 2501: u'privileg', 2502: u'priz', 2503: u'pro', 2504: u'prob', 2505: u'problem', 2506: u'proc', 2507: u'process', 2508: u'proclaim', 2509: u'proclam', 2510: u'prod', 2511: u'produc', 2512: u'profess', 2513: u'proff', 2514: u'profit', 2515: u'profound', 2516: u'profoundest', 2517: u'progress', 2518: u'prohibit', 2519: u'project', 2520: u'prom', 2521: u'promin', 2522: u'promot', 2523: u'prompt', 2524: u'promptitud', 2525: u'promulg', 2526: u'pronount', 2527: u'proof', 2528: u'prop', 2529: u'propagand', 2530: u'property', 2531: u'proport', 2532: u'propos', 2533: u'proposit', 2534: u'propry', 2535: u'prosp', 2536: u'prospect', 2537: u'protect', 2538: u'protest', 2539: u'proud', 2540: u'prov', 2541: u'provid', 2542: u'proviso', 2543: u'provok', 2544: u'provost', 2545: u'proxim', 2546: u'prud', 2547: u'pruss', 2548: u'publ', 2549: u'puget', 2550: u'pun', 2551: u'punct', 2552: u'pur', 2553: u'purchas', 2554: u'purport', 2555: u'purpos', 2556: u'pursu', 2557: u'pursuit', 2558: u'push', 2559: u'put', 2560: u'q', 2561: u'qual', 2562: u'quant', 2563: u'quarrel', 2564: u'quart', 2565: u'quartermast', 2566: u'quas', 2567: u'quel', 2568: u'quest', 2569: u'quibbl', 2570: u'quiet', 2571: u'quit', 2572: u'quot', 2573: u'r', 2574: u'rac', 2575: u'rad', 2576: u'rag', 2577: u'railroad', 2578: u'railway', 2579: u'rais', 2580: u'ral', 2581: u'rang', 2582: u'rank', 2583: u'rapid', 2584: u'rar', 2585: u'rat', 2586: u'rath', 2587: u'ratio', 2588: u'rav', 2589: u'ray', 2590: u're', 2591: u'reacceiv', 2592: u'reach', 2593: u'read', 2594: u'readopt', 2595: u'ready', 2596: u'real', 2597: u'rear', 2598: u'reargu', 2599: u'reason', 2600: u'reat', 2601: u'rebel', 2602: u'rebuk', 2603: u'rec', 2604: u'recal', 2605: u'recapt', 2606: u'receipt', 2607: u'receiv', 2608: u'recess', 2609: u'reciproc', 2610: u'reckless', 2611: u'reckon', 2612: u'reclaim', 2613: u'reclam', 2614: u'recogn', 2615: u'recognit', 2616: u'recollect', 2617: u'recommend', 2618: u'reconcil', 2619: u'reconsid', 2620: u'reconstruct', 2621: u'record', 2622: u'recovery', 2623: u'recr', 2624: u'recruit', 2625: u'recur', 2626: u'red', 2627: u'redeem', 2628: u'redempt', 2629: u'redress', 2630: u'reduc', 2631: u'reel', 2632: u'reenforc', 2633: u'reenslav', 2634: u'reest', 2635: u'ref', 2636: u'refer', 2637: u'reflect', 2638: u'reform', 2639: u'refug', 2640: u'refund', 2641: u'refus', 2642: u'reg', 2643: u'regain', 2644: u'regard', 2645: u'regret', 2646: u'regul', 2647: u'regy', 2648: u'reimburs', 2649: u'reinst', 2650: u'reintroduc', 2651: u'reit', 2652: u'reject', 2653: u'rel', 2654: u'releas', 2655: u'reliev', 2656: u'relig', 2657: u'relinqu', 2658: u'reluct', 2659: u'rely', 2660: u'remain', 2661: u'remaind', 2662: u'remark', 2663: u'remedy', 2664: u'rememb', 2665: u'remind', 2666: u'remit', 2667: u'remodel', 2668: u'remorseless', 2669: u'remov', 2670: u'remun', 2671: u'rend', 2672: u'renew', 2673: u'renount', 2674: u'renown', 2675: u'reop', 2676: u'reorg', 2677: u'rep', 2678: u'repair', 2679: u'repel', 2680: u'repl', 2681: u'reply', 2682: u'report', 2683: u'repossess', 2684: u'repres', 2685: u'repress', 2686: u'repriev', 2687: u'reproach', 2688: u'reptil', 2689: u'republ', 2690: u'repudy', 2691: u'repur', 2692: u'reput', 2693: u'request', 2694: u'requir', 2695: u'requisit', 2696: u'rescind', 2697: u'resembl', 2698: u'reserv', 2699: u'resid', 2700: u'residu', 2701: u'resign', 2702: u'resist', 2703: u'resolv', 2704: u'resort', 2705: u'resourc', 2706: u'respect', 2707: u'respond', 2708: u'respons', 2709: u'rest', 2710: u'restitut', 2711: u'restrain', 2712: u'restraint', 2713: u'restrict', 2714: u'result', 2715: u'resum', 2716: u'reta', 2717: u'retain', 2718: u'retard', 2719: u'retir', 2720: u'retract', 2721: u'retrograd', 2722: u'return', 2723: u'reun', 2724: u'rev', 2725: u'reveng', 2726: u'revenu', 2727: u'revers', 2728: u'revid', 2729: u'review', 2730: u'revolt', 2731: u'revolv', 2732: u'rewrit', 2733: u'rhod', 2734: u'ri', 2735: u'ric', 2736: u'rich', 2737: u'richard', 2738: u'richest', 2739: u'richmond', 2740: u'rid', 2741: u'ridic', 2742: u'rifl', 2743: u'rig', 2744: u'right', 2745: u'rigid', 2746: u'rincipl', 2747: u'ring', 2748: u'risk', 2749: u'riv', 2750: u'ro', 2751: u'road', 2752: u'roar', 2753: u'rob', 2754: u'rocky', 2755: u'rog', 2756: u'rol', 2757: u'rollick', 2758: u'rom', 2759: u'room', 2760: u'round', 2761: u'rout', 2762: u'roy', 2763: u'ruf', 2764: u'ruin', 2765: u'rul', 2766: u'rum', 2767: u'run', 2768: u'runaway', 2769: u'rus', 2770: u'rush', 2771: u'ruthless', 2772: u'rutledg', 2773: u's', 2774: u'sabin', 2775: u'sacr', 2776: u'sacramento', 2777: u'sad', 2778: u'saf', 2779: u'safeguard', 2780: u'sag', 2781: u'said', 2782: u'sail', 2783: u'saint', 2784: u'sak', 2785: u'sal', 2786: u'salv', 2787: u'salvad', 2788: u'sam', 2789: u'san', 2790: u'sanct', 2791: u'sand', 2792: u'sanguin', 2793: u'sanit', 2794: u'sank', 2795: u'sarcasm', 2796: u'sat', 2797: u'satisfact', 2798: u'satisfy', 2799: u'sav', 2800: u'savannah', 2801: u'saw', 2802: u'say', 2803: u'scaffold', 2804: u'scal', 2805: u'scarc', 2806: u'scat', 2807: u'scen', 2808: u'schedule', 2809: u'scheldt', 2810: u'scheme', 2811: u'school', 2812: u'sci', 2813: u'scop', 2814: u'scor', 2815: u'scorn', 2816: u'scot', 2817: u'scourg', 2818: u'scout', 2819: u'scrap', 2820: u'scrip', 2821: u'scruple', 2822: u'scyth', 2823: u'sea', 2824: u'seaboard', 2825: u'seacoast', 2826: u'seal', 2827: u'seam', 2828: u'search', 2829: u'season', 2830: u'seat', 2831: u'sec', 2832: u'secess', 2833: u'second', 2834: u'secret', 2835: u'sect', 2836: u'see', 2837: u'seek', 2838: u'seem', 2839: u'seen', 2840: u'seiz', 2841: u'sel', 2842: u'seldom', 2843: u'select', 2844: u'self', 2845: u'sen', 2846: u'send', 2847: u'sensit', 2848: u'sent', 2849: u'sentinel', 2850: u'senty', 2851: u'seny', 2852: u'sep', 2853: u'septemb', 2854: u'serv', 2855: u'servil', 2856: u'sery', 2857: u'sess', 2858: u'set', 2859: u'settl', 2860: u'sev', 2861: u'seven', 2862: u'seven0', 2863: u'seven00', 2864: u'seven0five', 2865: u'seveneight', 2866: u'seveneighteight', 2867: u'seveneightnin', 2868: u'seveneightsix', 2869: u'seveneighty', 2870: u'sevenf', 2871: u'sevenfifty', 2872: u'sevenfivenin', 2873: u'sevenfour0', 2874: u'sevenfourfo', 2875: u'sevenfouron', 2876: u'sevennin', 2877: u'sevenninef', 2878: u'sevennineon', 2879: u'sevenninesix', 2880: u'sevenninethr', 2881: u'sevenon', 2882: u'sevenone0', 2883: u'sevenonefo', 2884: u'sevensev', 2885: u'sevenseven0', 2886: u'sevenseveneight', 2887: u'sevensevenon', 2888: u'sevensevensix', 2889: u'sevenseventhr', 2890: u'sevensix', 2891: u'sevensixsev', 2892: u'sevensixtwo', 2893: u'seventhr', 2894: u'seventhreenin', 2895: u'seventhreethr', 2896: u'seventwelv', 2897: u'seventwo', 2898: u'seventwo0', 2899: u'seventwonin', 2900: u'seventwotwo', 2901: u'seventy', 2902: u'shad', 2903: u'shadow', 2904: u'shal', 2905: u'sham', 2906: u'shap', 2907: u'shar', 2908: u'sharp', 2909: u'she', 2910: u'shed', 2911: u'sheet', 2912: u'sherm', 2913: u'shin', 2914: u'ship', 2915: u'shipwreck', 2916: u'shirk', 2917: u'shiv', 2918: u'shock', 2919: u'shoot', 2920: u'shop', 2921: u'shor', 2922: u'short', 2923: u'should', 2924: u'show', 2925: u'shown', 2926: u'shred', 2927: u'shrink', 2928: u'shrinking', 2929: u'shuffl', 2930: u'siames', 2931: u'sid', 2932: u'sierr', 2933: u'sigh', 2934: u'sight', 2935: u'sign', 2936: u'sil', 2937: u'sillim', 2938: u'silv', 2939: u'simil', 2940: u'simpl', 2941: u'simply', 2942: u'simult', 2943: u'sin', 2944: u'singl', 2945: u'sink', 2946: u'sint', 2947: u'sioux', 2948: u'sir', 2949: u'sitan', 2950: u'situ', 2951: u'six', 2952: u'six0', 2953: u'six00', 2954: u'six0six', 2955: u'sixeightf', 2956: u'sixeightthr', 2957: u'sixeighttwo', 2958: u'sixeighty', 2959: u'sixf', 2960: u'sixfifty', 2961: u'sixfivesix', 2962: u'sixfo', 2963: u'sixfour0', 2964: u'sixfoureight', 2965: u'sixfourf', 2966: u'sixfourfo', 2967: u'sixfoursev', 2968: u'sixfoursix', 2969: u'sixfourthr', 2970: u'sixfourtwo', 2971: u'sixnin', 2972: u'sixninetwo', 2973: u'sixon', 2974: u'sixone0', 2975: u'sixonef', 2976: u'sixonefo', 2977: u'sixonesev', 2978: u'sixonesix', 2979: u'sixsev', 2980: u'sixseveneight', 2981: u'sixsevenfo', 2982: u'sixsevennin', 2983: u'sixsevenon', 2984: u'sixsevensev', 2985: u'sixteen', 2986: u'sixthirty', 2987: u'sixthr', 2988: u'sixthreeeight', 2989: u'sixthreef', 2990: u'sixtwo', 2991: u'sixtwothr', 2992: u'sixty', 2993: u'siz', 2994: u'sketch', 2995: u'skil', 2996: u'skin', 2997: u'sland', 2998: u'slav', 2999: u'slavehold', 3000: u'slavery', 3001: u'slightest', 3002: u'slop', 3003: u'slow', 3004: u'smal', 3005: u'smallest', 3006: u'snaky', 3007: u'sneak', 3008: u'so', 3009: u'sob', 3010: u'sobriquet', 3011: u'soc', 3012: u'socy', 3013: u'soft', 3014: u'soil', 3015: u'sol', 3016: u'sold', 3017: u'soldy', 3018: u'solemn', 3019: u'solicit', 3020: u'solicitud', 3021: u'solitud', 3022: u'solv', 3023: u'som', 3024: u'somebody', 3025: u'somehow', 3026: u'someth', 3027: u'sometim', 3028: u'somewh', 3029: u'son', 3030: u'soon', 3031: u'soph', 3032: u'sorry', 3033: u'sort', 3034: u'sou', 3035: u'sought', 3036: u'soul', 3037: u'sound', 3038: u'sourc', 3039: u'southern', 3040: u'southward', 3041: u'sovereign', 3042: u'sovereignty', 3043: u'spac', 3044: u'spain', 3045: u'spak', 3046: u'span', 3047: u'spar', 3048: u'speak', 3049: u'spec', 3050: u'specim', 3051: u'specy', 3052: u'spee', 3053: u'speech', 3054: u'speedy', 3055: u'spel', 3056: u'spirit', 3057: u'spit', 3058: u'splitting', 3059: u'spoil', 3060: u'spok', 3061: u'spot', 3062: u'sprang', 3063: u'spread', 3064: u'spring', 3065: u'springfield', 3066: u'springing', 3067: u'sprung', 3068: u'squ', 3069: u'squabbl', 3070: u'squadron', 3071: u'squat', 3072: u'st', 3073: u'stabl', 3074: u'stad', 3075: u'stag', 3076: u'stak', 3077: u'stand', 3078: u'standard', 3079: u'star', 3080: u'start', 3081: u'starv', 3082: u'stat', 3083: u'statesm', 3084: u'statut', 3085: u'stay', 3086: u'stead', 3087: u'steady', 3088: u'steam', 3089: u'step', 3090: u'steph', 3091: u'stick', 3092: u'stil', 3093: u'stim', 3094: u'stip', 3095: u'stir', 3096: u'stock', 3097: u'ston', 3098: u'stood', 3099: u'stop', 3100: u'storm', 3101: u'stormy', 3102: u'stout', 3103: u'straight', 3104: u'strained', 3105: u'strait', 3106: u'strange', 3107: u'strangely', 3108: u'stranger', 3109: u'strangled', 3110: u'stream', 3111: u'street', 3112: u'strength', 3113: u'strengthen', 3114: u'stretching', 3115: u'stricken', 3116: u'strict', 3117: u'strictly', 3118: u'strictness', 3119: u'strife', 3120: u'strike', 3121: u'striking', 3122: u'string', 3123: u'stringency', 3124: u'strive', 3125: u'striving', 3126: u'stroke', 3127: u'strong', 3128: u'stronger', 3129: u'strongest', 3130: u'strongly', 3131: u'strove', 3132: u'struck', 3133: u'structure', 3134: u'struggle', 3135: u'struggled', 3136: u'struggling', 3137: u'stuck', 3138: u'study', 3139: u'stun', 3140: u'subject', 3141: u'subjug', 3142: u'submit', 3143: u'subordin', 3144: u'subsequ', 3145: u'subsidy', 3146: u'subst', 3147: u'substitut', 3148: u'subtl', 3149: u'subtract', 3150: u'success', 3151: u'such', 3152: u'sud', 3153: u'suff', 3154: u'sufficy', 3155: u'suffoc', 3156: u'suffr', 3157: u'sug', 3158: u'suggest', 3159: u'suit', 3160: u'sul', 3161: u'sult', 3162: u'sum', 3163: u'sumt', 3164: u'sundry', 3165: u'sunk', 3166: u'sunny', 3167: u'superc', 3168: u'superintend', 3169: u'supervid', 3170: u'supery', 3171: u'suppl', 3172: u'supply', 3173: u'support', 3174: u'suppos', 3175: u'suppress', 3176: u'suprem', 3177: u'sur', 3178: u'surest', 3179: u'surfac', 3180: u'surgeon', 3181: u'surpass', 3182: u'surpl', 3183: u'surpr', 3184: u'surrend', 3185: u'surround', 3186: u'surv', 3187: u'survey', 3188: u'suscept', 3189: u'susp', 3190: u'suspect', 3191: u'suspend', 3192: u'sustain', 3193: u'swallow', 3194: u'swarm', 3195: u'swe', 3196: u'swear', 3197: u'swed', 3198: u'sweep', 3199: u'swel', 3200: u'swim', 3201: u'sword', 3202: u'sworn', 3203: u'syl', 3204: u'sympath', 3205: u'sympathy', 3206: u'system', 3207: u't', 3208: u'tabl', 3209: u'tact', 3210: u'tak', 3211: u'tal', 3212: u'taney', 3213: u'tanto', 3214: u'tardy', 3215: u'task', 3216: u'tast', 3217: u'tat', 3218: u'taunt', 3219: u'tax', 3220: u'tayl', 3221: u'teach', 3222: u'tear', 3223: u'techn', 3224: u'tee', 3225: u'teem', 3226: u'tel', 3227: u'telegraph', 3228: u'tem', 3229: u'temp', 3230: u'tempt', 3231: u'ten', 3232: u'tend', 3233: u'tenon', 3234: u'ter', 3235: u'term', 3236: u'termin', 3237: u'terr', 3238: u'terrebon', 3239: u'territ', 3240: u'test', 3241: u'testimony', 3242: u'texa', 3243: u'text', 3244: u'than', 3245: u'thank', 3246: u'that', 3247: u'the', 3248: u'their', 3249: u'them', 3250: u'themselv', 3251: u'then', 3252: u'thenceforward', 3253: u'thent', 3254: u'ther', 3255: u'thereaft', 3256: u'thereby', 3257: u'theref', 3258: u'therefrom', 3259: u'therein', 3260: u'thereof', 3261: u'thereon', 3262: u'thereto', 3263: u'theretof', 3264: u'thes', 3265: u'they', 3266: u'thi', 3267: u'thick', 3268: u'thin', 3269: u'thing', 3270: u'think', 3271: u'third', 3272: u'thirteen', 3273: u'thirty', 3274: u'thirty0', 3275: u'thirtyfo', 3276: u'tho', 3277: u'thoma', 3278: u'thorough', 3279: u'though', 3280: u'thought', 3281: u'thousand', 3282: u'thraldom', 3283: u'threat', 3284: u'threaten', 3285: u'threatened', 3286: u'three', 3287: u'threed', 3288: u'threeeightfour', 3289: u'threeeightthree', 3290: u'threefive', 3291: u'threefour', 3292: u'threefournine', 3293: u'threefourone', 3294: u'threefourtwo', 3295: u'threenine', 3296: u'threeninefour', 3297: u'threenineseven', 3298: u'threeninesix', 3299: u'threeone', 3300: u'threeonefour', 3301: u'threeonesix', 3302: u'threeseven', 3303: u'threesevennine', 3304: u'threesix', 3305: u'threesixeight', 3306: u'threesixfour', 3307: u'threesixone', 3308: u'threethree', 3309: u'threethreefive', 3310: u'threethreenine', 3311: u'threethreeone', 3312: u'threethreethree', 3313: u'threw', 3314: u'thrice', 3315: u'throbbing', 3316: u'throe', 3317: u'thronging', 3318: u'throttled', 3319: u'through', 3320: u'throughout', 3321: u'throw', 3322: u'throwing', 3323: u'thrown', 3324: u'thrust', 3325: u'thu', 3326: u'thund', 3327: u'thunderstruck', 3328: u'ticket', 3329: u'tie', 3330: u'tier', 3331: u'til', 3332: u'tim', 3333: u'timb', 3334: u'timid', 3335: u'tip', 3336: u'titl', 3337: u'to', 3338: u'tobacco', 3339: u'today', 3340: u'togeth', 3341: u'toil', 3342: u'tol', 3343: u'told', 3344: u'tomb', 3345: u'ton', 3346: u'tongu', 3347: u'too', 3348: u'took', 3349: u'tool', 3350: u'toothless', 3351: u'top', 3352: u'torch', 3353: u'tordenskiold', 3354: u'torn', 3355: u'tot', 3356: u'touch', 3357: u'toward', 3358: u'towit', 3359: u'town', 3360: u'trac', 3361: u'track', 3362: u'tract', 3363: u'trad', 3364: u'traff', 3365: u'trail', 3366: u'train', 3367: u'trait', 3368: u'tranquil', 3369: u'transact', 3370: u'transcend', 3371: u'transf', 3372: u'transfer', 3373: u'transform', 3374: u'transit', 3375: u'transmit', 3376: u'transpir', 3377: u'transpl', 3378: u'transport', 3379: u'travel', 3380: u'tre', 3381: u'treach', 3382: u'tread', 3383: u'treas', 3384: u'treason', 3385: u'treasury', 3386: u'treaty', 3387: u'trembl', 3388: u'tri', 3389: u'trib', 3390: u'tribun', 3391: u'tribut', 3392: u'trifl', 3393: u'tripl', 3394: u'triumph', 3395: u'troop', 3396: u'trop', 3397: u'troubl', 3398: u'troublesom', 3399: u'tru', 3400: u'truck', 3401: u'truly', 3402: u'trumbul', 3403: u'trust', 3404: u'truth', 3405: u'try', 3406: u'tumbl', 3407: u'turk', 3408: u'turkey', 3409: u'turn', 3410: u'twelv', 3411: u'twelve', 3412: u'twelvef', 3413: u'twelvenin', 3414: u'twenty', 3415: u'twic', 3416: u'twin', 3417: u'two', 3418: u'two0', 3419: u'two00', 3420: u'two0eight', 3421: u'two0six', 3422: u'two0three', 3423: u'twoeight', 3424: u'twof', 3425: u'twofifty', 3426: u'twofive', 3427: u'twofivesev', 3428: u'twofivethr', 3429: u'twofo', 3430: u'twofoureight', 3431: u'twofoursev', 3432: u'twonin', 3433: u'twonineeight', 3434: u'twoninesix', 3435: u'twoninetwo', 3436: u'twoon', 3437: u'twoonesev', 3438: u'twoonesix', 3439: u'twosev', 3440: u'twosevenfo', 3441: u'twosevenon', 3442: u'twosevensix', 3443: u'twosix', 3444: u'twosixsev', 3445: u'twosixtwo', 3446: u'twothr', 3447: u'twothreeeight', 3448: u'twothreefo', 3449: u'twothreenin', 3450: u'twotwo', 3451: u'twotwod', 3452: u'twotwoon', 3453: u'twotwotwo', 3454: u'tyb', 3455: u'tycoon', 3456: u'typ', 3457: u'tyr', 3458: u'u', 3459: u'ultim', 3460: u'un', 3461: u'unaccount', 3462: u'unalt', 3463: u'unanim', 3464: u'unansw', 3465: u'unavail', 3466: u'unavoid', 3467: u'unbrok', 3468: u'unc', 3469: u'uncertain', 3470: u'unchang', 3471: u'uncommon', 3472: u'uncondit', 3473: u'unconstitut', 3474: u'und', 3475: u'undeny', 3476: u'undergon', 3477: u'underl', 3478: u'undermin', 3479: u'understand', 3480: u'understood', 3481: u'undertak', 3482: u'undevelop', 3483: u'undistinct', 3484: u'undisturb', 3485: u'undo', 3486: u'undon', 3487: u'undoubt', 3488: u'undu', 3489: u'uneasy', 3490: u'unexecut', 3491: u'unexhaust', 3492: u'unexpect', 3493: u'unfair', 3494: u'unfet', 3495: u'unfin', 3496: u'unforeseen', 3497: u'unfortun', 3498: u'unfrequ', 3499: u'unfriend', 3500: u'ung', 3501: u'unhappy', 3502: u'unhesit', 3503: u'unho', 3504: u'uniform', 3505: u'unimpair', 3506: u'unimport', 3507: u'uninhabit', 3508: u'unint', 3509: u'unintend', 3510: u'unit', 3511: u'univers', 3512: u'unjust', 3513: u'unkept', 3514: u'unknown', 3515: u'unless', 3516: u'unlik', 3517: u'unlimit', 3518: u'unmad', 3519: u'unmind', 3520: u'unmistak', 3521: u'unnecess', 3522: u'unnot', 3523: u'unobject', 3524: u'unoccupy', 3525: u'unorg', 3526: u'unpaid', 3527: u'unpleas', 3528: u'unprec', 3529: u'unprofit', 3530: u'unquest', 3531: u'unrep', 3532: u'unrequit', 3533: u'unsaf', 3534: u'unsatisfact', 3535: u'unsay', 3536: u'unsec', 3537: u'unself', 3538: u'unsound', 3539: u'unsubst', 3540: u'unthought', 3541: u'until', 3542: u'unto', 3543: u'untry', 3544: u'unus', 3545: u'unvex', 3546: u'unw', 3547: u'unwelcom', 3548: u'unwil', 3549: u'up', 3550: u'upheld', 3551: u'upon', 3552: u'urg', 3553: u'useless', 3554: u'ut', 3555: u'utah', 3556: u'vac', 3557: u'vagr', 3558: u'vagu', 3559: u'vain', 3560: u'valid', 3561: u'valu', 3562: u'van', 3563: u'vanqu', 3564: u'vary', 3565: u'vast', 3566: u'vaunt', 3567: u'veh', 3568: u'ven', 3569: u'venezuel', 3570: u'vent', 3571: u'verb', 3572: u'verg', 3573: u'vermont', 3574: u'very', 3575: u'vessel', 3576: u'vest', 3577: u'vet', 3578: u'vex', 3579: u'vi', 3580: u'vic', 3581: u'vicin', 3582: u'vict', 3583: u'vicy', 3584: u'view', 3585: u'vig', 3586: u'vigil', 3587: u'vind', 3588: u'viol', 3589: u'virgin', 3590: u'virt', 3591: u'virtu', 3592: u'visit', 3593: u'vit', 3594: u'vivid', 3595: u'viz', 3596: u'voc', 3597: u'voic', 3598: u'void', 3599: u'voltair', 3600: u'volum', 3601: u'volunt', 3602: u'vot', 3603: u'vow', 3604: u'wa', 3605: u'wag', 3606: u'waiv', 3607: u'wal', 3608: u'walk', 3609: u'want', 3610: u'war', 3611: u'ward', 3612: u'warf', 3613: u'warlik', 3614: u'warn', 3615: u'wash', 3616: u'washington', 3617: u'wast', 3618: u'wat', 3619: u'watch', 3620: u'watery', 3621: u'wav', 3622: u'wax', 3623: u'way', 3624: u'we', 3625: u'weak', 3626: u'weal', 3627: u'weapon', 3628: u'weary', 3629: u'web', 3630: u'webst', 3631: u'week', 3632: u'weigh', 3633: u'weight', 3634: u'wel', 3635: u'welcom', 3636: u'welf', 3637: u'wen', 3638: u'went', 3639: u'wer', 3640: u'west', 3641: u'western', 3642: u'westward', 3643: u'what', 3644: u'whatev', 3645: u'whatsoev', 3646: u'wheedl', 3647: u'when', 3648: u'whenev', 3649: u'whent', 3650: u'wher', 3651: u'wherea', 3652: u'whereabout', 3653: u'wherein', 3654: u'whereof', 3655: u'whereupon', 3656: u'wherev', 3657: u'wherewi', 3658: u'wheth', 3659: u'which', 3660: u'whig', 3661: u'whil', 3662: u'whisp', 3663: u'whit', 3664: u'whith', 3665: u'who', 3666: u'whoev', 3667: u'whol', 3668: u'whom', 3669: u'why', 3670: u'wi', 3671: u'wick', 3672: u'wid', 3673: u'widow', 3674: u'wif', 3675: u'wil', 3676: u'wild', 3677: u'william', 3678: u'williamson', 3679: u'wilmot', 3680: u'win', 3681: u'wind', 3682: u'window', 3683: u'wing', 3684: u'wint', 3685: u'wisconsin', 3686: u'wisdom', 3687: u'wisest', 3688: u'wish', 3689: u'wit', 3690: u'with', 3691: u'withdraw', 3692: u'withheld', 3693: u'withhold', 3694: u'within', 3695: u'without', 3696: u'wiv', 3697: u'woe', 3698: u'wolf', 3699: u'wom', 3700: u'won', 3701: u'wond', 3702: u'woo', 3703: u'wor', 3704: u'word', 3705: u'work', 3706: u'workm', 3707: u'world', 3708: u'worn', 3709: u'wors', 3710: u'worthy', 3711: u'would', 3712: u'wound', 3713: u'wrap', 3714: u'wrea', 3715: u'wrest', 3716: u'wring', 3717: u'writ', 3718: u'wrong', 3719: u'wrot', 3720: u'wrought', 3721: u'yank', 3722: u'yard', 3723: u'yat', 3724: u'yea', 3725: u'year', 3726: u'yedo', 3727: u'yesterday', 3728: u'yet', 3729: u'yield', 3730: u'yo', 3731: u'york', 3732: u'you', 3733: u'young', 3734: u'yourselv', 3735: u'zeal', 3736: u'zero'}\n"
          ],
          "name": "stdout"
        }
      ]
    },
    {
      "cell_type": "code",
      "metadata": {
        "id": "vbSfmaaSRBUo",
        "colab_type": "code",
        "outputId": "e9439862-6c82-47a3-d006-cff0764dea24",
        "colab": {
          "base_uri": "https://localhost:8080/",
          "height": 122
        }
      },
      "source": [
        "start = numpy.random.randint(0, len(dataX)-1)\n",
        "#start = len(dataX)-150\n",
        "pattern = dataX[start]\n",
        "print \"Seed:\"\n",
        "print \"\\\"\", ''.join([int_to_vocab[value] for value in pattern]), \"\\\"\"\n",
        "result = []\n",
        "# generate characters\n",
        "for i in range(40):\n",
        "\tx = numpy.reshape(pattern, (1, len(pattern), 1))\n",
        "\tx = x / float(n_vocab)\n",
        "\tprediction = model.predict(x, verbose=0)\n",
        "\tindex = numpy.argmax(prediction)\n",
        "\tresult.append(int_to_vocab[index])\n",
        "\tseq_in = [int_to_vocab[value] for value in pattern]\n",
        "\tpattern.append(index)\n",
        "\tpattern = pattern[1:len(pattern)]\n",
        "print \"\\nDone.\""
      ],
      "execution_count": 0,
      "outputs": [
        {
          "output_type": "stream",
          "text": [
            "Seed:\n",
            "\" toohavbeencomfromafric.ifthibesotheopofnewcountrytotheinstitutincreasthedemandforandaugthepricofslavandsodoeinfactmakslavoffreembycausthemtobebroughtfromafricandsoldintobond.buthowevthimaybeweknowtheopofnewcountrytoslaverytendtotheperpetuoftheinstitutandsodoekeepmeninslaverywhootherwwouldbefre. \"\n",
            "[u'the', u'', u'', u'', u'', u'', u'', u'', u'', u'', u'', u'', u'', u'', u'', u'', u'', u'', u'', u'', u'', u'', u'', u'', u'', u'', u'', u'', u'', u'', u'', u'', u'', u'', u'', u'', u'', u'', u'', u'']\n",
            "\n",
            "Done.\n"
          ],
          "name": "stdout"
        }
      ]
    }
  ]
}